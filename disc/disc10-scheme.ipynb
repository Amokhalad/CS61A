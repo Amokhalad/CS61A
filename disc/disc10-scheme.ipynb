{
 "cells": [
  {
   "cell_type": "markdown",
   "metadata": {},
   "source": [
    "### Q3: List Concatenation\n",
    "Write a function which takes two lists and concatenates them.\n",
    "\n",
    "Notice that simply calling (cons a b) would not work because it will create a deep list. Do not call the builtin procedure append, since it does the same thing as list-concat should do."
   ]
  },
  {
   "cell_type": "markdown",
   "metadata": {},
   "source": [
    "\n",
    "```scm\n",
    "(define (list-concat a b)\n",
    "    (cond \n",
    "        ((null? a) b)\n",
    "        (else (cons (car a) (list-concat (cdr a) b)))\n",
    "    )\n",
    ")\n",
    "```"
   ]
  },
  {
   "cell_type": "markdown",
   "metadata": {},
   "source": [
    "### Q4: Map\n",
    "Write a function that takes a procedure and applies it to every element in a given list using your own implementation without using the built-in map function."
   ]
  },
  {
   "cell_type": "markdown",
   "metadata": {},
   "source": [
    "```scm\n",
    "(define (map-fn fn lst)\n",
    "    (if (null? lst) \n",
    "        nil \n",
    "        (cons (fn (car lst)) (map-fn fn (cdr lst)))\n",
    "    )\n",
    ")\n",
    "```"
   ]
  },
  {
   "cell_type": "markdown",
   "metadata": {},
   "source": [
    "### Q5: Remove\n",
    "Implement a procedure remove that takes in a list and returns a new list with all instances of item removed from lst. You may assume the list will only consist of numbers and will not have nested lists."
   ]
  },
  {
   "cell_type": "markdown",
   "metadata": {},
   "source": [
    "\n",
    "```scm\n",
    "\n",
    ";using the filter procedure\n",
    "\n",
    "(define (remove item lst)\n",
    "  (filter (lambda (num) (not (= num item))) lst)\n",
    ")\n",
    "\n",
    "\n",
    ";without using the filter procedure\n",
    "\n",
    "(define (remove item lst)\n",
    "    (cond\n",
    "        ((null? lst) nil)\n",
    "        ((= (car lst) item) (remove item (cdr lst)))\n",
    "        (else (cons (car lst) (remove item (cdr lst))))\n",
    "    )\n",
    ")\n",
    "```"
   ]
  }
 ],
 "metadata": {
  "language_info": {
   "name": "python"
  },
  "orig_nbformat": 4
 },
 "nbformat": 4,
 "nbformat_minor": 2
}
