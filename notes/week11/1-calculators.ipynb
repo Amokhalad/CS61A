{
 "cells": [
  {
   "cell_type": "markdown",
   "metadata": {},
   "source": [
    "# Calculators"
   ]
  },
  {
   "cell_type": "markdown",
   "metadata": {},
   "source": [
    "### Exceptions\n",
    "#### Try statements\n",
    "Exceptions gives the programmer the ability to let the program continue running without terminating by handling the exception (Try statements)\n",
    "\n",
    "Try statements handle exceptions\n"
   ]
  },
  {
   "cell_type": "code",
   "execution_count": 2,
   "metadata": {},
   "outputs": [
    {
     "name": "stdout",
     "output_type": "stream",
     "text": [
      "handling a <class 'ZeroDivisionError'>\n"
     ]
    }
   ],
   "source": [
    "try:\n",
    "    x = 1/0\n",
    "except ZeroDivisionError as e:\n",
    "    print('handling a', type(e))\n",
    "    x = 0"
   ]
  },
  {
   "cell_type": "code",
   "execution_count": 15,
   "metadata": {},
   "outputs": [
    {
     "data": {
      "text/plain": [
       "'division by zero'"
      ]
     },
     "execution_count": 15,
     "metadata": {},
     "output_type": "execute_result"
    }
   ],
   "source": [
    "def invert(x):\n",
    "    result = 1/x\n",
    "    print('Never printed if x is 0')\n",
    "    return result\n",
    "\n",
    "def safe_invert(x):\n",
    "    try:\n",
    "        return invert(x)\n",
    "    except ZeroDivisionError as e:\n",
    "        return str(e)\n",
    "safe_invert(0)"
   ]
  },
  {
   "cell_type": "markdown",
   "metadata": {},
   "source": [
    "### Example of using Exception: Reduce"
   ]
  },
  {
   "cell_type": "code",
   "execution_count": 24,
   "metadata": {},
   "outputs": [],
   "source": [
    "from operator import truediv\n",
    "\n",
    "def reduce(f, s, initial):\n",
    "    \"\"\"Combine elements of s pairwise using f, starting with initial\n",
    "    >>> reduce(mul, [2, 4, 8], 1) # mul(mul(mul(1, 2), 4), 8)\n",
    "    64\n",
    "    \"\"\"\n",
    "    for x in s:\n",
    "        initial = f(initial, x)\n",
    "    return initial\n",
    "\n",
    "def reduce_rec(f, s, initial):\n",
    "    if not s:\n",
    "        return initial\n",
    "    else:\n",
    "        first, rest = s[0], s[1:]\n",
    "        return reduce_rec(f, rest, f(initial, first))\n",
    "\n",
    "\n",
    "def divide_all(n, s):\n",
    "    try:\n",
    "        return reduce_itr(truediv, s, n)\n",
    "    except ZeroDivisionError:\n",
    "        return float('inf')\n"
   ]
  },
  {
   "cell_type": "markdown",
   "metadata": {},
   "source": [
    "implementation of reduce doesn't need to know anything about zero division errors, so it's divide_all that handles the error, creating a separation of concerns in our program."
   ]
  },
  {
   "cell_type": "markdown",
   "metadata": {},
   "source": [
    "## Programming Languages\n",
    "a computer typically executes programs written in many different programming Languages\n",
    "\n",
    "**Machine Languages**: statements are interpreted by the hardware itself\n",
    "- a fixed set of instructions invoke operations implemented by the circuitry of the central processing unit (CPU)\n",
    "- operators refer to specific hardware memory addresses; no abstraction mechanisms\n",
    "\n",
    "\n",
    "**High-level languages**: statements & expressions are interpreted by another program or compiled (translated) into another language\n",
    "- provide means of abstraction such as naming, function definition, and objects."
   ]
  },
  {
   "cell_type": "markdown",
   "metadata": {},
   "source": [
    "### Metalinguistic Abstraction\n",
    "\n",
    "a powerful form of abstraction is to define a new language that is tailored to a particular type of application or problem domain.\n",
    "\n",
    "\n",
    "A programming language has:\n",
    "- **syntax:** the legal statements and expressions in the language\n",
    "- **semantics:** the execution/evaluation rule for those statements and expressions\n",
    "\n",
    "to create a new programming language, you either need a:\n",
    "- **specification:** a document describe the precise syntax and semantics of the language\n",
    "- Canonical implementation: An interpreter or compiler for the language\n",
    "\n"
   ]
  },
  {
   "cell_type": "markdown",
   "metadata": {},
   "source": [
    "### Parsing\n",
    "\n",
    "To interpret text as a programming language, you first need to parse it into some structure to perform some interpretation.\n",
    "\n",
    "#### Reading Scheme Lists\n",
    "\n",
    "A scheme list is written as elements in parentheses:\n",
    "\n",
    "`(<element n> <element n> ... <element n>)`\n",
    "\n",
    "each `<element>` can be a combination or primitive"
   ]
  },
  {
   "cell_type": "markdown",
   "metadata": {},
   "source": [
    "___"
   ]
  },
  {
   "cell_type": "markdown",
   "metadata": {},
   "source": [
    "A Parser takes text and returns an expression"
   ]
  },
  {
   "cell_type": "markdown",
   "metadata": {},
   "source": [
    "### Scheme-Syntax Calculator\n",
    "\n",
    "The value of a calculator expression is defined recursively.\n",
    "\n",
    "**Primitive:** A number evaluates to itself.\n",
    "\n",
    "**Call:** a call expression evaluates to its arguments values combined by an operator.\n",
    "- `+`: Sum of the arguments\n",
    "- `*`: product of the arguments\n",
    "- `-`: If one argument, negate it. If more than one, subtract the rest from the first.\n",
    "- `/`: if one argument, invert it. If more than one, divide the rest from the first.\n"
   ]
  },
  {
   "cell_type": "markdown",
   "metadata": {},
   "source": [
    "#### The Eval Function\n",
    "\n",
    "the `eval` function computes the value of an expression, which is always a number.\n",
    "\n",
    "It is a generic function that dispatches on the type of the expression (primitive or call)."
   ]
  },
  {
   "cell_type": "code",
   "execution_count": 23,
   "metadata": {},
   "outputs": [],
   "source": [
    "def calc_eval(exp):\n",
    "    if type(exp) in (int, float):\n",
    "        return exp\n",
    "    elif isinstance(exp, Pair):\n",
    "        arguments = exp.second.map(calc_eval)\n",
    "        return calc_apply(exp.first, arguments)\n",
    "    else:\n",
    "        raise TypeError"
   ]
  },
  {
   "cell_type": "markdown",
   "metadata": {},
   "source": [
    "#### Applying Built-in Operators\n",
    "The `apply` function applies some operation to a (Scheme) list of argument values.\n",
    "\n",
    "In calculator, all operators are named by built-in operators: `+, -, * /`"
   ]
  },
  {
   "cell_type": "code",
   "execution_count": 25,
   "metadata": {},
   "outputs": [],
   "source": [
    "def calc_apply(operator, args):\n",
    "    if operator == '+':\n",
    "        return reduce(add, args, 0)\n",
    "    elif operator == '-':\n",
    "        if len(args) == 0:\n",
    "            raise TypeError(operator + ' requires at least 1 argument')\n",
    "        if len(args) == 1:\n",
    "            return -args.first\n",
    "        else:\n",
    "            return reduce(sub, args, 0)\n",
    "    elif operator == '*':\n",
    "        return reduce(mul, args, 1)\n",
    "    elif operator == '/':\n",
    "        if len(args) == 0:\n",
    "            raise TypeError(operator + ' requires at least 1 argument')\n",
    "        elif len(args) == 1:\n",
    "            return 1 / args.first\n",
    "        else:\n",
    "            return reduce(truediv, args.second, args.first)\n",
    "    else:\n",
    "        raise TypeError(operator + ' is an unknown operator.')\n"
   ]
  },
  {
   "cell_type": "markdown",
   "metadata": {},
   "source": [
    "#### Interactive Interpreter (read-evalutate-print loop)\n",
    "The user interface for many programming language is an interactive interpreter.\n",
    "- print a prompt\n",
    "- **read** text input from the user.\n",
    "- pase the text into an expression.\n",
    "- **evaluate** the expression.\n",
    "- if any errors occur, report those errors, otherwise,\n",
    "- **print** the value of the expression and repeat"
   ]
  },
  {
   "cell_type": "code",
   "execution_count": 27,
   "metadata": {},
   "outputs": [],
   "source": [
    "def read_eval_print_loop():\n",
    "    while True:\n",
    "        try:\n",
    "            src = buffer_input()\n",
    "            while src.more_on_line:\n",
    "                expression = scheme_read(src)\n",
    "                print(calc_eval(expression))\n",
    "        except (SyntaxError, TypeError, ValueError, ZeroDivisionError) as err:\n",
    "            print(type(err).__name__ + ':', err)\n",
    "        except (KeyboardInterrupt, EOFError):  # <Control + D>, etc\n",
    "            print('Calculation completed.')\n",
    "            return"
   ]
  },
  {
   "cell_type": "markdown",
   "metadata": {},
   "source": [
    "#### Raising Exceptions\n",
    "\n",
    "Exceptions are raised within lexical analysis, syntactic analysis, eval, and apply.\n",
    "\n",
    "**Example exceptions**:\n",
    "- **lexical analysis**: The token `2.3.44444` raises `ValueError('Invalid numeral')`\n",
    "- **Syntactic analysis**: An extra `)` raises `SyntaxError('unexpected token')`\n",
    "- **Eval:** an empty combination raises `TypeError(\"() is not a number or call expression\")`\n",
    "- **Apply:** no arguments to `-` raises `TypeError(\"- requires at least 1 argument\")`"
   ]
  },
  {
   "cell_type": "markdown",
   "metadata": {},
   "source": [
    "#### Handling Exceptions\n",
    "All of the handling of the exceptions happens in one place.\n",
    "\n",
    "A well-designed interactive interpreter should not halt complete on an error, so that the user has an opportunity to try again in the current environment"
   ]
  }
 ],
 "metadata": {
  "kernelspec": {
   "display_name": "Python 3.10.6 64-bit",
   "language": "python",
   "name": "python3"
  },
  "language_info": {
   "codemirror_mode": {
    "name": "ipython",
    "version": 3
   },
   "file_extension": ".py",
   "mimetype": "text/x-python",
   "name": "python",
   "nbconvert_exporter": "python",
   "pygments_lexer": "ipython3",
   "version": "3.10.6"
  },
  "orig_nbformat": 4,
  "vscode": {
   "interpreter": {
    "hash": "b0fa6594d8f4cbf19f97940f81e996739fb7646882a419484c72d19e05852a7e"
   }
  }
 },
 "nbformat": 4,
 "nbformat_minor": 2
}
