{
 "cells": [
  {
   "cell_type": "markdown",
   "metadata": {},
   "source": [
    "# Databases\n",
    "*Nov 28, 2022*"
   ]
  },
  {
   "cell_type": "markdown",
   "metadata": {},
   "source": [
    "## Create Table and Drop Table\n",
    "### Create Table\n",
    "### Modifying Tables\n",
    "```sql\n",
    "UPDATE primes set prime = 0 where n > 2 and n % 2 = 0;\n",
    "DELETE from primes where prime=0;\n",
    "```\n",
    "## Python and SQL\n"
   ]
  },
  {
   "cell_type": "code",
   "execution_count": 9,
   "metadata": {},
   "outputs": [],
   "source": [
    "import sqlite3\n",
    "\n",
    "db = sqlite3.Connection(\"n.db\")\n",
    "db.execute(\"DROP TABLE IF EXISTS nums;\")\n",
    "db.execute(\"CREATE TABLE nums AS SELECT 2 UNION SELECT 3;\")\n",
    "db.execute(\"INSERT INTO nums VALUES (?), (?), (?);\", range(4, 7))\n",
    "db.execute(\"SELECT * FROM nums;\").fetchall()\n",
    "db.commit()"
   ]
  },
  {
   "cell_type": "markdown",
   "metadata": {},
   "source": [
    "## Database Connections\n",
    "Multiple programs can be connected to the same database at the same time.\n",
    "\n",
    "Black Jack Example:"
   ]
  },
  {
   "cell_type": "code",
   "execution_count": 24,
   "metadata": {},
   "outputs": [
    {
     "name": "stdout",
     "output_type": "stream",
     "text": [
      "\n",
      " Dealing...\n",
      "Player went bust!\n",
      "\n",
      " Dealing...\n",
      "Player 18 and Dealer 19\n",
      "\n",
      " Dealing...\n",
      "Player 8 and Dealer 20\n",
      "\n",
      " Dealing...\n",
      "Player went bust!\n",
      "\n",
      " Dealing...\n",
      "Dealer went bust!\n",
      "\n",
      " Dealing...\n",
      "Player 14 and Dealer 20\n",
      "\n",
      " Dealing...\n",
      "Player 18 and Dealer 19\n",
      "\n",
      " Dealing...\n"
     ]
    }
   ],
   "source": [
    "import random\n",
    "import readline\n",
    "import sqlite3\n",
    "\n",
    "points = {'A': 1, 'J': 10, 'Q': 10, 'K': 10}\n",
    "points.update({n: n for n in range(2, 11)})\n",
    "\n",
    "def hand_score(hand):\n",
    "    \"\"\"Total score for a hand.\"\"\"\n",
    "    total = sum([points[card] for card in hand])\n",
    "    if total <= 11 and 'A' in hand:\n",
    "        return total + 10\n",
    "    return total\n",
    "\n",
    "\n",
    "db = sqlite3.Connection('cards.sql')\n",
    "sql = db.execute # shorten code.\n",
    "sql('DROP TABLE IF EXISTS cards')\n",
    "sql('CREATE TABLE cards(card, who);')\n",
    "\n",
    "def deal(card, who):\n",
    "    \"\"\"Deal a card face up.\"\"\"\n",
    "    sql('INSERT INTO cards VALUES (?, ?);', (card, who))\n",
    "    db.commit()\n",
    "\n",
    "def score(who):\n",
    "    \"\"\"Compute the hand score for the player or dealer.\"\"\"\n",
    "    cards = sql('SELECT * FROM cards WHERE who = ?;', [who])\n",
    "    return hand_score([card for card, who in cards.fetchall()])\n",
    "\n",
    "def bust(who):\n",
    "    \"\"\"Check if the player or dealer went bust.\"\"\"\n",
    "    return score(who) > 21\n",
    "\n",
    "player, dealer = \"Player\", \"Dealer\"\n",
    "\n",
    "def play_hand(deck):\n",
    "    \"\"\"Play a hand of Blackjack.\"\"\"\n",
    "    deal(deck.pop(), player)\n",
    "    deal(deck.pop(), dealer)\n",
    "    deal(deck.pop(), player)\n",
    "    hidden = deck.pop()\n",
    "\n",
    "    while 'y' in input(\"Hit? \").lower():\n",
    "        deal(deck.pop(), player)\n",
    "        if bust(player):\n",
    "            print(player, \"went bust!\")\n",
    "            return\n",
    "    \n",
    "    deal(hidden, dealer)\n",
    "    \n",
    "    while score(dealer) < 17:\n",
    "        deal(deck.pop(), dealer)\n",
    "        if bust(dealer):\n",
    "            print(dealer, \"went bust!\")\n",
    "            return\n",
    "    print(player, score(player), \"and\", dealer, score(dealer))\n",
    "\n",
    "deck = list(points.keys()) * 4\n",
    "random.shuffle(deck)\n",
    "while len(deck) > 10:\n",
    "    print('\\n Dealing...')\n",
    "    play_hand(deck)\n",
    "    sql('UPDATE cards SET who=\"Discard\";')"
   ]
  },
  {
   "cell_type": "code",
   "execution_count": null,
   "metadata": {},
   "outputs": [],
   "source": []
  }
 ],
 "metadata": {
  "kernelspec": {
   "display_name": "Python 3.10.6 64-bit",
   "language": "python",
   "name": "python3"
  },
  "language_info": {
   "codemirror_mode": {
    "name": "ipython",
    "version": 3
   },
   "file_extension": ".py",
   "mimetype": "text/x-python",
   "name": "python",
   "nbconvert_exporter": "python",
   "pygments_lexer": "ipython3",
   "version": "3.10.6"
  },
  "orig_nbformat": 4,
  "vscode": {
   "interpreter": {
    "hash": "b0fa6594d8f4cbf19f97940f81e996739fb7646882a419484c72d19e05852a7e"
   }
  }
 },
 "nbformat": 4,
 "nbformat_minor": 2
}
