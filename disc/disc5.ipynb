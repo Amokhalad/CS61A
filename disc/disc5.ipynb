{
 "cells": [
  {
   "cell_type": "markdown",
   "metadata": {},
   "source": [
    "# Sequences, Data Abstraction, Trees"
   ]
  },
  {
   "cell_type": "markdown",
   "metadata": {},
   "source": [
    "### Q1: Map, Filter, Reduce\n",
    "\n",
    "Many languages provide `map`, `filter`, `reduce` functions for sequences. Python also provides these functions (and we'll formally introduce them later on in the course), but to help you better understand how they work, you'll be implementing these functions in the following problems.\n",
    "\n",
    "In Python, the map and filter built-ins have slightly different behavior than the my_map >>> and my_filter functions we are defining here.\n",
    "\n",
    "`my_map` takes in a one argument function fn and a sequence seq and returns a list containing fn applied to each element in seq."
   ]
  },
  {
   "cell_type": "code",
   "execution_count": null,
   "metadata": {},
   "outputs": [
    {
     "data": {
      "text/plain": [
       "[1, 4, 9]"
      ]
     },
     "execution_count": 3,
     "metadata": {},
     "output_type": "execute_result"
    }
   ],
   "source": [
    "def my_map(fn, seq):\n",
    "    \"\"\"Applies fn onto each element in seq and returns a list.\n",
    "    >>> my_map(lambda x: x*x, [1, 2, 3])\n",
    "    [1, 4, 9]\n",
    "    \"\"\"\n",
    "    \"*** YOUR CODE HERE ***\"\n",
    "    return [fn(x) for x in seq]\n"
   ]
  },
  {
   "cell_type": "code",
   "execution_count": 4,
   "metadata": {},
   "outputs": [],
   "source": [
    "def my_filter(pred, seq):\n",
    "    \"\"\"Keeps elements in seq only if they satisfy pred.\n",
    "    >>> my_filter(lambda x: x % 2 == 0, [1, 2, 3, 4])  # new list has only even-valued elements\n",
    "    [2, 4]\n",
    "    \"\"\"\n",
    "    \"*** YOUR CODE HERE ***\"\n",
    "    return [x for x in seq if pred(x)]"
   ]
  },
  {
   "cell_type": "code",
   "execution_count": null,
   "metadata": {},
   "outputs": [],
   "source": [
    "def my_reduce(combiner, seq):\n",
    "    \"\"\"Combines elements in seq using combiner.\n",
    "    seq will have at least one element.\n",
    "    >>> my_reduce(lambda x, y: x + y, [1, 2, 3, 4])  # (((1 + 2) + 3) + 4)\n",
    "    10\n",
    "    >>> my_reduce(lambda x, y: x * y, [1, 2, 3, 4])  # ((1 * 2) * 3) * 4\n",
    "    24\n",
    "    >>> my_reduce(lambda x, y: x * y, [4])\n",
    "    4\n",
    "    >>> my_reduce(lambda x, y: x + 2 * y, [1, 2, 3]) # (1 + 2 * 2) + 2 * 3\n",
    "    11\n",
    "    \"\"\"\n",
    "\n",
    "seq = [1, 2, 3, 4]\n",
    "combiner(combiner(seq[0], seq(1))"
   ]
  },
  {
   "cell_type": "markdown",
   "metadata": {},
   "source": [
    "### Q3: Tree Abstraction Barrier"
   ]
  },
  {
   "cell_type": "markdown",
   "metadata": {},
   "source": [
    "1. 1\n",
    "2. 1\n",
    "3. 2, no it does not break the abs bar, branches is a lit of trees, we can index in a list.\n",
    "4. True\n",
    "5. [2, 4]\n",
    "6. 1"
   ]
  },
  {
   "cell_type": "markdown",
   "metadata": {},
   "source": [
    "### Q4: Height\n",
    "Write a function that returns the height of a tree. Recall that the height of a tree is the length of the longest path from the root to a leaf."
   ]
  },
  {
   "cell_type": "code",
   "execution_count": null,
   "metadata": {},
   "outputs": [],
   "source": [
    "def height(t):\n",
    "    if is_leaf(t):\n",
    "        return 0\n",
    "    else:\n",
    "        return 1 + max([height(b) for b in branches(t)])"
   ]
  },
  {
   "cell_type": "markdown",
   "metadata": {},
   "source": [
    "### Q5: Maximum Path Sum\n",
    "Write a function that takes in a tree and returns the maximum sum of the values along any path in the tree. Recall that a path is from the tree's root to any leaf."
   ]
  },
  {
   "cell_type": "code",
   "execution_count": 1,
   "metadata": {},
   "outputs": [],
   "source": [
    "def max_path_sum(t):\n",
    "    \"\"\"Return the maximum path sum of the tree.\n",
    "\n",
    "    >>> t = tree(1, [tree(5, [tree(1), tree(3)]), tree(10)])\n",
    "    >>> max_path_sum(t)\n",
    "    11\n",
    "    \"\"\"\n",
    "    return max([label(b) + max_path_sum(b) for b in branches(t)])"
   ]
  },
  {
   "cell_type": "markdown",
   "metadata": {},
   "source": [
    "### Q6: Find Path\n",
    "Write a function that takes in a tree and a value x and returns a list containing the nodes along the path required to get from the root of the tree to a node containing x.\n",
    "\n",
    "If x is not present in the tree, return None. Assume that the entries of the tree are unique.\n",
    "\n",
    "For the following tree, find_path(t, 5) should return [2, 7, 6, 5]"
   ]
  },
  {
   "cell_type": "code",
   "execution_count": 1,
   "metadata": {},
   "outputs": [],
   "source": [
    "def find_path(t, x):\n",
    "    \"\"\"\n",
    "    >>> t = tree(2, [tree(7, [tree(3), tree(6, [tree(5), tree(11)])] ), tree(15)])\n",
    "    >>> find_path(t, 5)\n",
    "    [2, 7, 6, 5]\n",
    "    >>> find_path(t, 10) # returns None\n",
    "    None\n",
    "    \"\"\"\n",
    "    if label(t) == x:\n",
    "        return [x]\n",
    "    for b in branches(t):\n",
    "        path = find_path(b, x)\n",
    "        if path:\n",
    "            return [label(t)] + path"
   ]
  }
 ],
 "metadata": {
  "kernelspec": {
   "display_name": "Python 3.10.6 64-bit",
   "language": "python",
   "name": "python3"
  },
  "language_info": {
   "codemirror_mode": {
    "name": "ipython",
    "version": 3
   },
   "file_extension": ".py",
   "mimetype": "text/x-python",
   "name": "python",
   "nbconvert_exporter": "python",
   "pygments_lexer": "ipython3",
   "version": "3.10.6"
  },
  "orig_nbformat": 4,
  "vscode": {
   "interpreter": {
    "hash": "b0fa6594d8f4cbf19f97940f81e996739fb7646882a419484c72d19e05852a7e"
   }
  }
 },
 "nbformat": 4,
 "nbformat_minor": 2
}
