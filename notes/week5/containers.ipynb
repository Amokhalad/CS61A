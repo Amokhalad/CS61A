{
 "cells": [
  {
   "cell_type": "markdown",
   "metadata": {},
   "source": [
    "# Containers (09/21/22)"
   ]
  },
  {
   "cell_type": "markdown",
   "metadata": {},
   "source": [
    "### Sequence Aggregation\n",
    "several built-in functions take iterable arguments and aggregate them into a value.\n",
    "\n",
    "#### `sum`\n",
    "`sum(iterable[, start]) -> value`\n",
    "\n",
    "return the sum of an iterable of numbers (NOT strings) plus the value of the parameter 'start' (which defaults to 0). When the iterable is empty, return start"
   ]
  },
  {
   "cell_type": "code",
   "execution_count": 4,
   "metadata": {},
   "outputs": [
    {
     "data": {
      "text/plain": [
       "14"
      ]
     },
     "execution_count": 4,
     "metadata": {},
     "output_type": "execute_result"
    }
   ],
   "source": [
    "sum([2,3,4], 5) # start counting from 5: 5 + 2 + 3 + 4"
   ]
  },
  {
   "cell_type": "markdown",
   "metadata": {},
   "source": [
    "Just like you can add lists together:  \n",
    "`[2,3] + [4] = [2, 3, 4]`  \n",
    "you can do the same thing with the sum function, as long as **you start with a list**, otherwise it would error."
   ]
  },
  {
   "cell_type": "code",
   "execution_count": 7,
   "metadata": {},
   "outputs": [
    {
     "data": {
      "text/plain": [
       "[9, 2, 3, 4]"
      ]
     },
     "execution_count": 7,
     "metadata": {},
     "output_type": "execute_result"
    }
   ],
   "source": [
    "sum([[2,3], [4]], [])"
   ]
  },
  {
   "cell_type": "markdown",
   "metadata": {},
   "source": [
    "#### `max`\n",
    "\n",
    "max takes two forms:  \n",
    "1. `max(iterable[, key=func]) -> value`  \n",
    "2. `max(a, b, c, ...[, key=func]) -> value`\n",
    "\n",
    "\n",
    "With a single iterable argument, return its largest item.  \n",
    "With two or more arguments, return the largest argument.\n",
    "\n",
    "\n",
    "the key applies a function to every argument that you are consider, and actually computes the maximum based on the return values of calling those functions.  \n",
    "##### Ex:"
   ]
  },
  {
   "cell_type": "code",
   "execution_count": 10,
   "metadata": {},
   "outputs": [
    {
     "data": {
      "text/plain": [
       "3"
      ]
     },
     "execution_count": 10,
     "metadata": {},
     "output_type": "execute_result"
    }
   ],
   "source": [
    "max(range(10), key=lambda x: 7 - (x - 4) * (x-2))"
   ]
  },
  {
   "cell_type": "markdown",
   "metadata": {},
   "source": [
    "#### `all`\n",
    "\n",
    "`all(iterable) -> bool`\n",
    "\n",
    "Return True if `bool(x)` is True for all values x in the iterable. If the iterable is empty, return True"
   ]
  },
  {
   "cell_type": "markdown",
   "metadata": {},
   "source": [
    "`all` looks the indiviual entires in an iterable.\n",
    "\n",
    "`all([]) is True` since there it sees nothing that's false inside that empty list.\n",
    "\n",
    "##### Ex:"
   ]
  },
  {
   "cell_type": "code",
   "execution_count": 16,
   "metadata": {},
   "outputs": [
    {
     "data": {
      "text/plain": [
       "[True, True, True, True, True]"
      ]
     },
     "execution_count": 16,
     "metadata": {},
     "output_type": "execute_result"
    }
   ],
   "source": [
    "[x < 5 for x in range(5)]"
   ]
  },
  {
   "cell_type": "code",
   "execution_count": 18,
   "metadata": {},
   "outputs": [
    {
     "data": {
      "text/plain": [
       "True"
      ]
     },
     "execution_count": 18,
     "metadata": {},
     "output_type": "execute_result"
    }
   ],
   "source": [
    "# Goal is to aggregate those together\n",
    "all([x < 5 for x in range(5)])"
   ]
  },
  {
   "cell_type": "code",
   "execution_count": 21,
   "metadata": {},
   "outputs": [
    {
     "data": {
      "text/plain": [
       "False"
      ]
     },
     "execution_count": 21,
     "metadata": {},
     "output_type": "execute_result"
    }
   ],
   "source": [
    "all(range(5)) # False since 0 is in that range and it's a bool(0) is False"
   ]
  },
  {
   "cell_type": "markdown",
   "metadata": {},
   "source": [
    "#### `any` `min`\n",
    "complements to `all` and `max`"
   ]
  },
  {
   "cell_type": "markdown",
   "metadata": {},
   "source": []
  }
 ],
 "metadata": {
  "kernelspec": {
   "display_name": "Python 3.10.6 64-bit",
   "language": "python",
   "name": "python3"
  },
  "language_info": {
   "codemirror_mode": {
    "name": "ipython",
    "version": 3
   },
   "file_extension": ".py",
   "mimetype": "text/x-python",
   "name": "python",
   "nbconvert_exporter": "python",
   "pygments_lexer": "ipython3",
   "version": "3.10.6"
  },
  "orig_nbformat": 4,
  "vscode": {
   "interpreter": {
    "hash": "b0fa6594d8f4cbf19f97940f81e996739fb7646882a419484c72d19e05852a7e"
   }
  }
 },
 "nbformat": 4,
 "nbformat_minor": 2
}
