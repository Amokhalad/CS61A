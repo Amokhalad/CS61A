{
 "cells": [
  {
   "cell_type": "markdown",
   "metadata": {},
   "source": [
    "## Tail Calls\n",
    "*Nov 7, 2022*"
   ]
  },
  {
   "cell_type": "markdown",
   "metadata": {},
   "source": [
    "### Dynamic Scope\n",
    "the way in which names are looked up in Scheme and Python is called *lexical scope* (or *static scope*).\n",
    "\n",
    "**Lexical scope:** The parent of a frame is the environment in which a procedure is ***defined***.\n",
    "\n",
    "**Dynamic scope:** The parent of a frame is the environment in which a procedure is ***called***."
   ]
  },
  {
   "cell_type": "markdown",
   "metadata": {},
   "source": [
    "### Tail Recursion\n",
    "##### Functional programming\n",
    "- all functions are pure functions\n",
    "- no re-assignment and no mutable data types\n",
    "- name-value bindings are permanent.\n",
    "\n",
    "Advantages of functional programming:\n",
    "- the value of an expression is independent of the order in which sub-expressions are evaluated.\n",
    "- Sub-expressions can safely be evaluated in parallel or on demand (lazily).\n",
    "- **Referential transparency:** the value of an expression does not change when we substitute one of its sub expression with the value of that sub expression."
   ]
  },
  {
   "cell_type": "code",
   "execution_count": 2,
   "metadata": {},
   "outputs": [],
   "source": [
    "# Recursion and Iteration in Python.\n",
    "def fact(n, k):\n",
    "    # Time: O(n)\n",
    "    # Space: O(n)\n",
    "    if n == 0:\n",
    "        return k\n",
    "    else:\n",
    "        return fact(n - 1, k*n)\n",
    "\n",
    "def fact_itr(n, k):\n",
    "    # Time: O(n)\n",
    "    # Space: O(1)\n",
    "    while n > 0:\n",
    "        n, k = n-1, k*n\n",
    "    return k"
   ]
  },
  {
   "cell_type": "markdown",
   "metadata": {},
   "source": [
    "The recursive function above in python will have the same run time as the iterative version, but instead has a space of $O(n)$ since it opens a new frame for each iteration.\n",
    "\n",
    "For scheme, the recursive implementation will have the same Big O space $O(1)$, as the iterative version in python, using tail recursion.\n",
    "\n",
    "How do we do this? We do this be eliminating the middle man. Eliminating frames that we don't need anymore when we make recursive calls."
   ]
  },
  {
   "cell_type": "code",
   "execution_count": null,
   "metadata": {},
   "outputs": [],
   "source": [
    "dd"
   ]
  },
  {
   "cell_type": "markdown",
   "metadata": {},
   "source": [
    "### Tail Calls\n",
    "\n",
    "A procedure call that has not yet returned is ***active***. Some procedure calls are ***tail calls***. A Scheme interpreter should support an ***unbound number*** of active tail calls using only a ***constant*** amount of space. (skipping over extra frames that are no longer needed.)"
   ]
  },
  {
   "cell_type": "markdown",
   "metadata": {},
   "source": [
    "A tail call is a call expression in a *tail context:*, what's a tail context?:\n",
    "- the last body sub-expression in a lambda expression.\n",
    "  - it's the last one since that last body determines the returned value of the lambda expression.\n",
    "- Sub-expression 2 & 3 in a tail context `if` expression\n",
    "- All non-predicate sub-expressions in a tail context `cond`\n",
    "- the last sub-expression in a tail context `and` or `or`\n",
    "- The last sub-expression in a tail context `begin`\n",
    "\n",
    "A call expression is not a tail call if more computation is still required in the calling procedure.\n",
    "\n",
    "Linear recursive procedures can often be re-written to use tail calls.\n",
    "\n"
   ]
  },
  {
   "cell_type": "markdown",
   "metadata": {},
   "source": [
    "##### Example: Length of a list\n",
    "```py\n",
    "(define (length s)\n",
    "    (if (null? s)\n",
    "        0\n",
    "        (+ 1 (length (cdr s)))\n",
    "    )\n",
    ")\n",
    "```\n",
    "Everything is in a tail context except `(length (cdr s))`\n",
    "after computing the `(length (cdr s))`, there is still more computation required, returning 1 + that.\n",
    "\n",
    "\n",
    "Lets rewrite it so that it's tail recursive.\n",
    "\n",
    "```py\n",
    "(define (length-tail s)\n",
    "    (define (length-iter s n)\n",
    "        (if (null? s) n\n",
    "            (length-itr (cdr s) (+ 1 n))\n",
    "        )\n",
    "    )\n",
    "    (length-itr s 0)\n",
    ")\n",
    "```"
   ]
  },
  {
   "cell_type": "markdown",
   "metadata": {},
   "source": [
    "#### Eval with Tail Call Optimization\n",
    "The return value of the tail call is the return value of the current procedure call. Therefore, tail calls shouldn't increase the environment size."
   ]
  },
  {
   "cell_type": "markdown",
   "metadata": {},
   "source": [
    "##### Example: Reduce\n",
    "```py\n",
    "(define (reduce procedure s start)\n",
    "    (if (null? s) start\n",
    "        (reduce procedure\n",
    "                (cdr s)\n",
    "                (procedure start (car s))))\n",
    ")\n",
    ">>> (reduce * (list 3 4 5) 2)\n",
    "120 # 2 * 3 * 4 * 5\n",
    ">>> (reduce (lambda (x y) (cons y x)) (list 3 5 5) (list 2))\n",
    "(5 4 3 2) \n",
    "```\n",
    "\n",
    "Recursive call is a tail call.\n",
    "\n",
    "Other calls are not; constant space depends on whether `procedure` requires constant space. (we don't know if the procedure is tail recursive.)"
   ]
  },
  {
   "cell_type": "markdown",
   "metadata": {},
   "source": [
    "##### Example: Map with only a Constant number of Frames\n",
    "\n",
    "**Not Tail Recursive:**\n",
    "```py\n",
    "(define (map procedure s)\n",
    "    (if (null? s)\n",
    "        nil\n",
    "        (cons (procedure (car s))\n",
    "              (map procedure (cdr s)))\n",
    "    )\n",
    ")\n",
    "```\n",
    "\n",
    "This is not tail recursive because the sub expressions of cons are not in a tail context."
   ]
  },
  {
   "cell_type": "markdown",
   "metadata": {},
   "source": [
    "Tail Recursive Map Definition:\n",
    "\n",
    "\n",
    "```python\n",
    "(define (map procedure s)\n",
    "    (define (map-reverse s m)\n",
    "        (if (null? s)\n",
    "            m\n",
    "            (map-reverse (cdr s)\n",
    "                         (cons (procedure (car s)) m)\n",
    "            )\n",
    "        )\n",
    "    )\n",
    "    (reverse (map-reverse s nil))\n",
    ")\n",
    "\n",
    "#--------\n",
    "\n",
    "(define (reverse s)\n",
    "    (define (reverse-iter s reversed-sofar)\n",
    "        (if (null? s)\n",
    "            r\n",
    "            (reverse-iter (cdr s) (cons (car s) r))\n",
    "        )\n",
    "    )\n",
    ")\n",
    "```"
   ]
  },
  {
   "cell_type": "markdown",
   "metadata": {},
   "source": [
    "### General Computing Machines\n",
    "we create this when we create interpreters. Programs specify the logic of a computational device."
   ]
  }
 ],
 "metadata": {
  "kernelspec": {
   "display_name": "Python 3.10.6 64-bit",
   "language": "python",
   "name": "python3"
  },
  "language_info": {
   "codemirror_mode": {
    "name": "ipython",
    "version": 3
   },
   "file_extension": ".py",
   "mimetype": "text/x-python",
   "name": "python",
   "nbconvert_exporter": "python",
   "pygments_lexer": "ipython3",
   "version": "3.10.6"
  },
  "orig_nbformat": 4,
  "vscode": {
   "interpreter": {
    "hash": "b0fa6594d8f4cbf19f97940f81e996739fb7646882a419484c72d19e05852a7e"
   }
  }
 },
 "nbformat": 4,
 "nbformat_minor": 2
}
