{
 "cells": [
  {
   "cell_type": "markdown",
   "metadata": {},
   "source": [
    "## Data Abstraction\n",
    "*Sep 23, 2022*"
   ]
  },
  {
   "cell_type": "markdown",
   "metadata": {},
   "source": [
    "- Compound objects combines objects together\n",
    "- An abstract data type lets us manipulate compound objects as units\n",
    "- Isolate two parts of any program that uses data:\n",
    "  - How data are represented (as parts)\n",
    "  - How data are manipulated (as units)\n",
    "- Data Abstraction: a methodology by which functions enforce an abstraction barrier between **representation** and **use**\n",
    "- The purpose of **Abstraction Barriers** this so we can change the data representation without having to rewrite the entire program."
   ]
  },
  {
   "cell_type": "markdown",
   "metadata": {},
   "source": [
    "### Rational Numbers"
   ]
  },
  {
   "cell_type": "code",
   "execution_count": 2,
   "metadata": {},
   "outputs": [],
   "source": [
    "def rational(n, d): # This is called the constructor\n",
    "    return [n, d]\n",
    "\n",
    "def numer(x):  # numer and denom are called selectors\n",
    "    return x[0]\n",
    "\n",
    "def denom(x):\n",
    "    return x[1]"
   ]
  },
  {
   "cell_type": "markdown",
   "metadata": {},
   "source": [
    "### Rational Numbers Arithmetic\n",
    "we will write arithmetic in terms of our constructor and selectors:\n",
    "\n",
    "recall:  \n",
    "**mul_rational**(x,y):  \n",
    "$$\\frac{nx}{dx} * \\frac{ny}{dy} = \\frac{nx*ny}{dx*dy}$$\n",
    "\n",
    "**add_mul(x,y):**  \n",
    "$$\\frac{nx}{dx}  + \\frac{ny}{dy} = \\frac{nx*dy + ny*dx}{dx*dy}$$"
   ]
  },
  {
   "cell_type": "code",
   "execution_count": 5,
   "metadata": {},
   "outputs": [],
   "source": [
    "def mui_rational(x, y):\n",
    "    return rational(numer(x) * numer(y),\n",
    "                    denom(x)*denom(y) )\n",
    "\n",
    "def add_rational(x, y):\n",
    "    nx, ny = numer(x), numer(y)\n",
    "    dx, dy = denom(x), denom(y)\n",
    "    return rational(nx*dy + ny*dx, dx*dy)"
   ]
  },
  {
   "cell_type": "markdown",
   "metadata": {},
   "source": [
    "### Reducing to Lowest Terms\n",
    "\n",
    "the arithmetic opertaions are correct the way they are, but what we need to do is change the constructorA to always produce a fraction in the lowest terms. To do this we will use the `gcd` function"
   ]
  },
  {
   "cell_type": "code",
   "execution_count": 1,
   "metadata": {},
   "outputs": [],
   "source": [
    "from math import gcd\n",
    "def rational(n, d):\n",
    "    g = gcd(n, d)\n",
    "    return [n//g, d//g]\n"
   ]
  }
 ],
 "metadata": {
  "kernelspec": {
   "display_name": "Python 3.10.6 64-bit",
   "language": "python",
   "name": "python3"
  },
  "language_info": {
   "codemirror_mode": {
    "name": "ipython",
    "version": 3
   },
   "file_extension": ".py",
   "mimetype": "text/x-python",
   "name": "python",
   "nbconvert_exporter": "python",
   "pygments_lexer": "ipython3",
   "version": "3.10.6"
  },
  "orig_nbformat": 4,
  "vscode": {
   "interpreter": {
    "hash": "b0fa6594d8f4cbf19f97940f81e996739fb7646882a419484c72d19e05852a7e"
   }
  }
 },
 "nbformat": 4,
 "nbformat_minor": 2
}
