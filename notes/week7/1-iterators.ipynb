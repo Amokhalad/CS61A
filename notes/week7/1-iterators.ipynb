{
 "cells": [
  {
   "cell_type": "markdown",
   "metadata": {},
   "source": [
    "## Iterators\n",
    "\n",
    "*Oct 3, 2022*"
   ]
  },
  {
   "cell_type": "markdown",
   "metadata": {},
   "source": [
    "A container can provide an iterator that provides acces to its elements in some order"
   ]
  },
  {
   "cell_type": "markdown",
   "metadata": {},
   "source": [
    "`iter(iterable)`: Returns an iterator over the elements of an iterable value  \n",
    "`next(iterator)`: REturn the next element in an iterator"
   ]
  },
  {
   "cell_type": "code",
   "execution_count": 8,
   "metadata": {},
   "outputs": [
    {
     "data": {
      "text/plain": [
       "3"
      ]
     },
     "execution_count": 8,
     "metadata": {},
     "output_type": "execute_result"
    }
   ],
   "source": [
    "s = [3, 4, 5]\n",
    "t = iter(s)\n",
    "next(t)"
   ]
  },
  {
   "cell_type": "code",
   "execution_count": 16,
   "metadata": {},
   "outputs": [
    {
     "data": {
      "text/plain": [
       "[[1, 2], 3, 4, 5]"
      ]
     },
     "execution_count": 16,
     "metadata": {},
     "output_type": "execute_result"
    }
   ],
   "source": [
    "s = [[1, 2], 3, 4, 5]\n",
    "t = iter(s)\n",
    "# if you want to list all values in an iterator:\n",
    "list(t)\n",
    "# note this will also make the iterator point to the end, so you will get a StopIterator Error\n",
    "# if you do next(t)"
   ]
  },
  {
   "cell_type": "markdown",
   "metadata": {},
   "source": [
    "### Views of a Dictionary"
   ]
  },
  {
   "cell_type": "markdown",
   "metadata": {},
   "source": [
    "An `iterable` value is any value that can be passted to `iter` to produce an iterator  \n",
    "an `iterator` is return from `iter` and can be passed to `next`; all iterators are mutable  \n",
    "A dictionary, its keys, its values, and its iterms are all iterable values  \n",
    "- The order of iterms in a dictionary is the order in which they were added (Python 3.6+)\n",
    "\n",
    "**Question:** From my knowledge, dictionary keys are immutable, how can an iterator point to a key if an iterator is mutable, but the key is not?"
   ]
  },
  {
   "cell_type": "markdown",
   "metadata": {},
   "source": [
    "##### Example of Iterator Over Dict Keys:"
   ]
  },
  {
   "cell_type": "code",
   "execution_count": 20,
   "metadata": {},
   "outputs": [
    {
     "data": {
      "text/plain": [
       "('one', 'two', 'three', 'zero')"
      ]
     },
     "execution_count": 20,
     "metadata": {},
     "output_type": "execute_result"
    }
   ],
   "source": [
    "d = {'one': 1, 'two': 2, 'three': 3}\n",
    "d['zero'] = 0\n",
    "k = iter(d.keys())\n",
    "next(k), next(k), next(k), next(k)"
   ]
  },
  {
   "cell_type": "markdown",
   "metadata": {},
   "source": [
    "#### Iterating Over Dict Values:"
   ]
  },
  {
   "cell_type": "code",
   "execution_count": 21,
   "metadata": {},
   "outputs": [
    {
     "data": {
      "text/plain": [
       "(1, 2, 3, 0)"
      ]
     },
     "execution_count": 21,
     "metadata": {},
     "output_type": "execute_result"
    }
   ],
   "source": [
    "v = iter(d.values())\n",
    "next(v), next(v), next(v), next(v)"
   ]
  },
  {
   "cell_type": "markdown",
   "metadata": {},
   "source": [
    "#### Iterator Over Dict Items:"
   ]
  },
  {
   "cell_type": "code",
   "execution_count": 24,
   "metadata": {},
   "outputs": [
    {
     "data": {
      "text/plain": [
       "(('one', 1), ('two', 2), ('three', 3), ('zero', 0))"
      ]
     },
     "execution_count": 24,
     "metadata": {},
     "output_type": "execute_result"
    }
   ],
   "source": [
    "i = iter(d.items())\n",
    "next(i), next(i), next(i), next(i)"
   ]
  },
  {
   "cell_type": "markdown",
   "metadata": {},
   "source": [
    "Note: if you change the **size** of the dictionary and there was an iterator to it, the iterator is no longer valid, but you can change the value of the existing keys"
   ]
  },
  {
   "cell_type": "code",
   "execution_count": 1,
   "metadata": {},
   "outputs": [
    {
     "ename": "RuntimeError",
     "evalue": "dictionary changed size during iteration",
     "output_type": "error",
     "traceback": [
      "\u001b[0;31m---------------------------------------------------------------------------\u001b[0m",
      "\u001b[0;31mRuntimeError\u001b[0m                              Traceback (most recent call last)",
      "\u001b[1;32m/Users/aljuboori/Documents/Berkeley/Semester 1 Fa22/cs61a/notes-jup/week7/1-iterators.ipynb Cell 15\u001b[0m in \u001b[0;36m<cell line: 5>\u001b[0;34m()\u001b[0m\n\u001b[1;32m      <a href='vscode-notebook-cell:/Users/aljuboori/Documents/Berkeley/Semester%201%20Fa22/cs61a/notes-jup/week7/1-iterators.ipynb#X20sZmlsZQ%3D%3D?line=2'>3</a>\u001b[0m \u001b[39mnext\u001b[39m(k)\n\u001b[1;32m      <a href='vscode-notebook-cell:/Users/aljuboori/Documents/Berkeley/Semester%201%20Fa22/cs61a/notes-jup/week7/1-iterators.ipynb#X20sZmlsZQ%3D%3D?line=3'>4</a>\u001b[0m d[\u001b[39m'\u001b[39m\u001b[39mzero\u001b[39m\u001b[39m'\u001b[39m] \u001b[39m=\u001b[39m \u001b[39m0\u001b[39m\n\u001b[0;32m----> <a href='vscode-notebook-cell:/Users/aljuboori/Documents/Berkeley/Semester%201%20Fa22/cs61a/notes-jup/week7/1-iterators.ipynb#X20sZmlsZQ%3D%3D?line=4'>5</a>\u001b[0m \u001b[39mnext\u001b[39;49m(k)\n",
      "\u001b[0;31mRuntimeError\u001b[0m: dictionary changed size during iteration"
     ]
    }
   ],
   "source": [
    "d = {'one': 1, 'two': 2}\n",
    "k = iter(d)\n",
    "next(k)\n",
    "d['zero'] = 0\n",
    "next(k)"
   ]
  },
  {
   "cell_type": "markdown",
   "metadata": {},
   "source": [
    "### For Statements\n",
    "\n",
    "a for statements advances of the iterator:"
   ]
  },
  {
   "cell_type": "markdown",
   "metadata": {},
   "source": [
    "### Built-in Functions for Iteration\n",
    "many built-in Python sequence operations return iterators that compute results lazily  \n",
    "- lazy computation means that result is only computed when it has been requested. For example\n",
    "    - `map(func, iterable)`: Iterable over func(x) for x in iterable\n",
    "      - instead of apply func(x) to every x immediately, it returns an iterator, and the function is only applied when you call next()\n",
    "    - `filter(func, iterable)`: Iterable over x in iterable if func(x)\n",
    "      - filter will do the minimal amount of work to find the next element such that func(x) is true\n",
    "    - `zip(first_iter, second_iter)`: Iterate over co-indexed (x, y) pairs\n",
    "    - `reversed(sequence)`: I\n",
    "    - terator over x in a sequence in reverse order"
   ]
  },
  {
   "cell_type": "markdown",
   "metadata": {},
   "source": [
    "To View the contents of an iterator, place the resulting elements into a container\n",
    "\n",
    "- `list(iterable)`\n",
    "- `tuple(iterable)`\n",
    "- `sorted(iterable)`: Create a sorted list containing x in iterable\n"
   ]
  },
  {
   "cell_type": "code",
   "execution_count": 44,
   "metadata": {},
   "outputs": [],
   "source": [
    "m = map(lambda x: x.upper(), ['b', 'c', 'd']) # Returns an iterator"
   ]
  },
  {
   "cell_type": "code",
   "execution_count": 45,
   "metadata": {},
   "outputs": [
    {
     "data": {
      "text/plain": [
       "'B'"
      ]
     },
     "execution_count": 45,
     "metadata": {},
     "output_type": "execute_result"
    }
   ],
   "source": [
    "next(m)"
   ]
  },
  {
   "cell_type": "code",
   "execution_count": 52,
   "metadata": {},
   "outputs": [
    {
     "name": "stdout",
     "output_type": "stream",
     "text": [
      "** 3 => 6 **\n",
      "** 5 => 10 **\n",
      "** 7 => 14 **\n"
     ]
    },
    {
     "data": {
      "text/plain": [
       "14"
      ]
     },
     "execution_count": 52,
     "metadata": {},
     "output_type": "execute_result"
    }
   ],
   "source": [
    "def double(x):\n",
    "    print('**', x,'=>', 2*x, '**')\n",
    "    return 2*x\n",
    "\n",
    "m = map(double, [3, 5, 7])\n",
    "next(m)\n",
    "next(m)\n",
    "next(m)"
   ]
  },
  {
   "cell_type": "markdown",
   "metadata": {},
   "source": [
    "### The Zip Function\n",
    "The built-in `zip` function returns an iterator over co-index tuples."
   ]
  },
  {
   "cell_type": "markdown",
   "metadata": {},
   "source": [
    "Implement **palindrome**, which returns whether a sequence `s` is the same forward and backward."
   ]
  },
  {
   "cell_type": "code",
   "execution_count": 2,
   "metadata": {},
   "outputs": [],
   "source": [
    "def palindrome(s):\n",
    "    \"\"\"Return whether s is the same backward and forward\"\"\"\n",
    "    return list(s) == list(reversed(s))"
   ]
  },
  {
   "cell_type": "code",
   "execution_count": 58,
   "metadata": {},
   "outputs": [],
   "source": [
    "def palindrome(s):\n",
    "    \"\"\"Another implementation for palindrome, but the nice thing is that it allowed you to\n",
    "    generalize the way in which you are comparing to elements (a == b)\"\"\"\n",
    "    return all([a == b for a, b in zip(s, reversed(s))])"
   ]
  },
  {
   "cell_type": "markdown",
   "metadata": {},
   "source": [
    "### Reason for Using Iterators\n",
    "Code that processes an iterator (via `next`) or iterable (via `for` or `iter`) makes few assumptions about the data itself.\n",
    "\n",
    "- Changing the data representation from a list to a tuple, map object, or dict_keys doesn't require rewriting code. (Data Abstraction)\n",
    "- Others are more likely to be able to use your code on their data."
   ]
  },
  {
   "cell_type": "markdown",
   "metadata": {},
   "source": [
    "An Iterator bundles together a sequence and a position within that sequence as one object.\n",
    "- passing that object o another function always retains the position.\n",
    "- Useful for ensuring that each element of a sequence is processed only once.\n",
    "- Limits the operations that can be performed on the sequence to only requesting `next`."
   ]
  },
  {
   "cell_type": "code",
   "execution_count": null,
   "metadata": {},
   "outputs": [],
   "source": []
  }
 ],
 "metadata": {
  "kernelspec": {
   "display_name": "Python 3.10.6 64-bit",
   "language": "python",
   "name": "python3"
  },
  "language_info": {
   "codemirror_mode": {
    "name": "ipython",
    "version": 3
   },
   "file_extension": ".py",
   "mimetype": "text/x-python",
   "name": "python",
   "nbconvert_exporter": "python",
   "pygments_lexer": "ipython3",
   "version": "3.10.6"
  },
  "orig_nbformat": 4,
  "vscode": {
   "interpreter": {
    "hash": "b0fa6594d8f4cbf19f97940f81e996739fb7646882a419484c72d19e05852a7e"
   }
  }
 },
 "nbformat": 4,
 "nbformat_minor": 2
}
