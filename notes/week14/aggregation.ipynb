{
 "cells": [
  {
   "cell_type": "markdown",
   "metadata": {},
   "source": [
    "## Aggregation\n",
    "**Nov 21, 2022**"
   ]
  },
  {
   "cell_type": "code",
   "execution_count": null,
   "metadata": {},
   "outputs": [],
   "source": []
  },
  {
   "cell_type": "markdown",
   "metadata": {},
   "source": [
    "## Aggregate Functions\n",
    "So far, all SQL expressions have referred to the values in a single row at a time. \n",
    "\n",
    "An Aggregate function in the [`columns`] clause computes a value from a group of rows.\n",
    "\n",
    "```SQL\n",
    "create table animals as\n",
    "    select \"dog\" as kind, 4 as legs, 20 as weight union\n",
    "    select \"cat\"        , 4        , 10           union\n",
    "    select \"ferret\"     , 4        , 10           union\n",
    "    select \"parrot\"     , 2        , 6            union\n",
    "    select \"penguin\"    , 2        , 10           union\n",
    "    select \"t-rex\"      , 2        , 12000;\n",
    "\n",
    "\n",
    "select max(legs - weight) + 5  from animals; -- 1\n",
    "select max(legs), min(weight) from animals; -- 4 | 6\n",
    "select min(legs), max(weight) from animals where kind <> \"t-rex\"; -- 2 | 20\n",
    "select count(legs) from animals; -- how many different rows there are.\n",
    "select count(*) from animals; -- more typical syntax since each column has same number of rows.\n",
    "select count(distinct legs) from animals; -- counts the number of distinct legs (2)\n",
    "select sum(distinct weight) from animals; -- 12036, leaves out the repeats and sums.\n",
    "select max(weight), kind from animals; -- 12000 | t-rex \n",
    "```\n",
    "- Note aggregate functions are computed independently, there is no animal with 4 legs and weight of 6.\n",
    "- We can also use `where` clause.\n",
    "- An aggregate function also selects a row in the table. So `max(weight)d` selects a row and you can also get the other columns of the row (`kind`)."
   ]
  },
  {
   "cell_type": "markdown",
   "metadata": {},
   "source": [
    "\n",
    "### Groups\n",
    "#### Grouping Rows\n",
    "Rows in a table can be grouped, and aggregation is performed on each group.\n",
    "\n",
    "```SQL\n",
    "select [columns] from [table] group by [expression] having [expression];\n",
    "```\n",
    "The number of groups is the number of unique values of an expression. \n",
    "\n",
    "---\n",
    "Recall the animals table from above.\n",
    "```SQL\n",
    "select legs, max(weight) from animals group by legs;\n",
    "```\n",
    "![](images/rowgrouping.png)\n",
    "\n",
    "\n",
    "---\n",
    "You can group by multiple columns, which will give you all the unique combinations of these two groups.\n",
    "```SQL\n",
    "select legs, weight from animals group by legs, weight;\n",
    "```\n",
    "---\n",
    "You can group any kind of expression you want. This will give you the unique groups of weight/legs from table animals.\n",
    "Note sql does integer division by default.\n",
    "```SQL\n",
    "select max(kind), weight/legs from animals group by weight/legs;\n",
    "```"
   ]
  },
  {
   "cell_type": "markdown",
   "metadata": {},
   "source": [
    "### Selecting Groups\n",
    "A `having` clause filters the set of groups that are aggregated. A where clause filters individual rows, but a having clause can even include aggregation itself.\n",
    "\n",
    "\n",
    "```SQL\n",
    "select weight/legs, count(*) from animals group by weight/legs having count(*) > 1;\n",
    "```\n",
    "![](images/havingclause.png)  "
   ]
  }
 ],
 "metadata": {
  "kernelspec": {
   "display_name": "Python 3.10.6 64-bit",
   "language": "python",
   "name": "python3"
  },
  "language_info": {
   "name": "python",
   "version": "3.10.6"
  },
  "orig_nbformat": 4,
  "vscode": {
   "interpreter": {
    "hash": "b0fa6594d8f4cbf19f97940f81e996739fb7646882a419484c72d19e05852a7e"
   }
  }
 },
 "nbformat": 4,
 "nbformat_minor": 2
}
