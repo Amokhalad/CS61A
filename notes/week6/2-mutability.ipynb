{
 "cells": [
  {
   "cell_type": "code",
   "execution_count": null,
   "metadata": {},
   "outputs": [],
   "source": []
  }
 ],
 "metadata": {
  "kernelspec": {
   "display_name": "Python 3.10.7 64-bit (microsoft store)",
   "language": "python",
   "name": "python3"
  },
  "language_info": {
   "name": "python",
   "version": "3.10.7"
  },
  "orig_nbformat": 4,
  "vscode": {
   "interpreter": {
    "hash": "a523bb4ae541fe0eccf7db198b06224712a6299c564a642d5cf021f38b68f3d1"
   }
  }
 },
 "nbformat": 4,
 "nbformat_minor": 2
}
