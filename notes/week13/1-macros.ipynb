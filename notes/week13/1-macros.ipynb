{
 "cells": [
  {
   "cell_type": "markdown",
   "metadata": {},
   "source": [
    "# Macros \n",
    "*Nov 14, 2022*"
   ]
  },
  {
   "cell_type": "markdown",
   "metadata": {},
   "source": [
    "a feature of scheme that allows you to define new special forms.\n"
   ]
  },
  {
   "cell_type": "markdown",
   "metadata": {},
   "source": [
    "A macro is an operation performed on the source code of a program before evaluation\n",
    "\n",
    "Macros exist in many languages, but are easiest to define correctly in a language like lisp, since the code is data (code is lists).\n",
    "\n",
    "Scheme has a `define-macro` special form that defines a source code transformation."
   ]
  },
  {
   "cell_type": "markdown",
   "metadata": {},
   "source": [
    "**Example:**\n",
    "```python\n",
    "(define-macro (twice expr)\n",
    "    (list 'begin expr expr)\n",
    ")\n",
    "\n",
    "# (begin (print 2) (print 2))\n",
    "scm>> (twice (print 2))\n",
    "2\n",
    "2\n",
    "```"
   ]
  },
  {
   "cell_type": "markdown",
   "metadata": {},
   "source": [
    "Evaluation procedure of a macro call expression:\n",
    "1. Evaluate the operator sub-expression, which evaluates to a macro\n",
    "2. Call the macro procedure on the operand expression *without evaluating them first*\n",
    "3. Evaluate the expression returned from the macro procedure\n",
    "\n",
    "In short, macros take in expressions and return expression, instead of taking in values and returning values. Macros don't evaluate the operand"
   ]
  },
  {
   "cell_type": "markdown",
   "metadata": {},
   "source": [
    "**Example above but without macro:**\n",
    "```py\n",
    "(define (twice expr)\n",
    "    (list 'begin expr expr)\n",
    ")\n",
    "\n",
    "scm>> (twice '(print 2))\n",
    "(begin (print 2) (print 2))\n",
    "\n",
    "scm>> (eval (twice '(print 2)))\n",
    "2\n",
    "2\n",
    "```\n",
    "\n",
    " -> Notice we need to quote the operand so that it doesn't get evaluated, and we need to call eval to evaluate the returned expression. With `define-macro` all of this is done automatically. This gives us complete control of how and when the operands are evaluated inside a macro."
   ]
  },
  {
   "cell_type": "markdown",
   "metadata": {},
   "source": [
    "**Example: printing out the operand**\n",
    "```py\n",
    "(define-macro (check expr)\n",
    "    (list 'if expr ''passed ''failed)\n",
    ")\n",
    "scm>> (check (< 1 0))\n",
    "failed\n",
    "```\n",
    "**we can also print out the failed expressions:**\n",
    "\n",
    "```python\n",
    "(define-macro (check expr)\n",
    "    (list 'if expr ''passed (list 'quote (list 'failed: expr)))\n",
    ")\n",
    "\n",
    "scm>> (check (< 1 0))\n",
    "(failed: (< 1 0))\n",
    "```"
   ]
  },
  {
   "cell_type": "markdown",
   "metadata": {},
   "source": [
    "To debug, use the regular define and pass in a quoted expression to see what the returned value is."
   ]
  },
  {
   "cell_type": "markdown",
   "metadata": {},
   "source": [
    "#### For Macro\n",
    "Define a macro that evaluates an expression for each value in a sequence\n",
    "```python\n",
    "scm>> (for x '(2 3 4 5) (* x x))\n",
    "(4 9 16 26)\n",
    "```\n",
    "\n",
    "**Solution:**\n",
    "```python\n",
    "(define (map fn vals)\n",
    "    (if (null? vals) nil\n",
    "        (cons (fn (car vals)) (map fn (cdr vals)))\n",
    "    )\n",
    ")\n",
    "scm>> (map (lambda (x) (* x x)) '(2 3 4 5))\n",
    "(4 9 16 25)\n",
    "\n",
    "\n",
    "# build the expression above\n",
    "(define-macro (for sym vals expr)\n",
    "    (list 'map (list 'lambda (list sym) expr) vals)\n",
    ")\n",
    "```"
   ]
  },
  {
   "cell_type": "markdown",
   "metadata": {},
   "source": [
    "### Trace Recursive Calls"
   ]
  },
  {
   "cell_type": "code",
   "execution_count": 9,
   "metadata": {},
   "outputs": [
    {
     "name": "stdout",
     "output_type": "stream",
     "text": [
      "fact(4)\n",
      "fact(3)\n",
      "fact(2)\n",
      "fact(1)\n",
      "fact(0)\n"
     ]
    },
    {
     "data": {
      "text/plain": [
       "24"
      ]
     },
     "execution_count": 9,
     "metadata": {},
     "output_type": "execute_result"
    }
   ],
   "source": [
    "def trace(fn):\n",
    "    def traced(n):\n",
    "        print(f'{fn.__name__}({n})')\n",
    "        return fn(n)\n",
    "    return traced\n",
    "\n",
    "@trace\n",
    "def fact(n):\n",
    "    if n == 0:\n",
    "        return 1\n",
    "    else:\n",
    "        return n * fact(n - 1)\n",
    "fact(4)\n"
   ]
  },
  {
   "cell_type": "markdown",
   "metadata": {},
   "source": [
    "```python\n",
    "(define (fact n)\n",
    "    (if (zero? n) 1\n",
    "        (* n (fact (- n 1)))\n",
    "    )\n",
    ")\n",
    "(define original fact)\n",
    "(define (fact n) \n",
    "    (print (list 'fact n))\n",
    "    (original n)\n",
    ")\n",
    "\n",
    "scm>> (fact 5)\n",
    "(fact 5)\n",
    "(fact 4)\n",
    "(fact 3)\n",
    "(fact 2)\n",
    "(fact 1)\n",
    "(fact 0)\n",
    "120\n",
    "```\n",
    "Note there are some issues with this (idk what they are, rewatch lecture.) Lets fix it with `define-macro`"
   ]
  },
  {
   "cell_type": "markdown",
   "metadata": {},
   "source": [
    "WTF is this shite. Rewatch the lecture.\n",
    "```\n",
    "(define-macro (trace expr) ; (trace (fact 5))\n",
    "    (define operator (car expr)) ; fact\n",
    "    `(begin\n",
    "        (define original ,operator)\n",
    "        (define ,operator (lambda (n)\n",
    "                                (print (list (quote ,operator) n))\n",
    "                                (original n)\n",
    "                            )\n",
    "        )\n",
    "        (define result ,expr)\n",
    "        (define ,operator original)\n",
    "        result\n",
    "    )\n",
    ")\n",
    "```"
   ]
  },
  {
   "cell_type": "code",
   "execution_count": null,
   "metadata": {},
   "outputs": [],
   "source": []
  }
 ],
 "metadata": {
  "kernelspec": {
   "display_name": "Python 3.10.6 64-bit",
   "language": "python",
   "name": "python3"
  },
  "language_info": {
   "codemirror_mode": {
    "name": "ipython",
    "version": 3
   },
   "file_extension": ".py",
   "mimetype": "text/x-python",
   "name": "python",
   "nbconvert_exporter": "python",
   "pygments_lexer": "ipython3",
   "version": "3.10.6"
  },
  "orig_nbformat": 4,
  "vscode": {
   "interpreter": {
    "hash": "b0fa6594d8f4cbf19f97940f81e996739fb7646882a419484c72d19e05852a7e"
   }
  }
 },
 "nbformat": 4,
 "nbformat_minor": 2
}
