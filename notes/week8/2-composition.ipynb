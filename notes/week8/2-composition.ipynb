{
 "cells": [
  {
   "cell_type": "markdown",
   "metadata": {},
   "source": [
    "# Composition\n",
    "*Oct 14, 2022* "
   ]
  },
  {
   "cell_type": "markdown",
   "metadata": {},
   "source": [
    "### Linked Lists\n",
    "a linked list is either empty or a first value and the rest of the linked list."
   ]
  },
  {
   "cell_type": "code",
   "execution_count": 10,
   "metadata": {},
   "outputs": [],
   "source": [
    "class Link:\n",
    "    empty = ()\n",
    "    def __init__(self, first, rest=empty):\n",
    "        assert rest is Link.empty or isinstance(rest, Link)\n",
    "        self.first = first\n",
    "        self.rest = rest\n",
    "\n",
    "    def __repr__(self):\n",
    "        if self.rest:\n",
    "            rest_repr = ', ' + repr(self.rest)\n",
    "        else:\n",
    "            rest_repr = ''\n",
    "        return 'Link(' + repr(self.first) + rest_repr + ')'\n",
    "\n",
    "    def __str__(self):\n",
    "        string = '<'\n",
    "        while self.rest is not Link.empty:\n",
    "            string += str(self.first) + ' '\n",
    "            self = self.rest\n",
    "        return string + str(self.first) + '>'"
   ]
  },
  {
   "cell_type": "markdown",
   "metadata": {},
   "source": [
    "#### Linked List Processing\n",
    "\n",
    "##### Ex: Range, Map, and Filter for Linked Lists"
   ]
  },
  {
   "cell_type": "code",
   "execution_count": 12,
   "metadata": {},
   "outputs": [
    {
     "data": {
      "text/plain": [
       "[1, 9, 25]"
      ]
     },
     "execution_count": 12,
     "metadata": {},
     "output_type": "execute_result"
    }
   ],
   "source": [
    "# Recall what range, map, and filter does for link\n",
    "square, odd = lambda x: x*x, lambda x: x%2==1\n",
    "list(map(square, filter(odd, range(1, 6))))"
   ]
  },
  {
   "cell_type": "code",
   "execution_count": 13,
   "metadata": {},
   "outputs": [
    {
     "data": {
      "text/plain": [
       "Link(1, Link(9, Link(25)))"
      ]
     },
     "execution_count": 13,
     "metadata": {},
     "output_type": "execute_result"
    }
   ],
   "source": [
    "def range_link(start, end):\n",
    "    \"\"\"\n",
    "    Return a Link containing consecutive integers from start to end.\n",
    "\n",
    "    >>> range_link(3, 6)\n",
    "    Link(3, Link(4, Link(5)))\n",
    "    \"\"\"\n",
    "    if start >= end:\n",
    "        return Link.empty\n",
    "    else:\n",
    "        return Link(start, range_link(start + 1, end))\n",
    "\n",
    "def map_link(f, s):\n",
    "    \"\"\"Return a Link that contains f(x) for each x in Link s.\n",
    "\n",
    "    >>> map_link(square, range_link(3, 6))\n",
    "    Link(9, Link(16, 25))\n",
    "    \"\"\"\n",
    "    if s is Link.empty:\n",
    "        return Link.empty\n",
    "    else:\n",
    "        return Link(f(s.first), map_link(f, s.rest))\n",
    "\n",
    "def filter_link(f, s):\n",
    "    \"\"\"Return a Link that contains only the elements x of Link s for which f(x)\n",
    "    is a true value.\n",
    "\n",
    "    >>> filter_link(odd, range_link(3, 6))\n",
    "    Link(3, Link(5))\n",
    "    \"\"\"\n",
    "    if s is Link.empty:\n",
    "        return Link.empty\n",
    "    elif f(s.first):\n",
    "        return Link(s.first, filter_link(f, s.rest))\n",
    "    else:\n",
    "        return filter_link(f, s.rest)\n",
    "\n",
    "map_link(square, filter_link(odd, range_link(1, 6)))"
   ]
  },
  {
   "cell_type": "markdown",
   "metadata": {},
   "source": [
    "#### Linked List Mutation\n",
    "Attribute assignment statements can change first and rest attributes of a link\n",
    "\n",
    "The rest of a linked list can contain the linked list as a sub-list\n",
    "\n",
    "\n",
    "##### Example: Adding to an Ordered List"
   ]
  },
  {
   "cell_type": "code",
   "execution_count": 14,
   "metadata": {},
   "outputs": [
    {
     "ename": "SyntaxError",
     "evalue": "invalid syntax (105788389.py, line 5)",
     "output_type": "error",
     "traceback": [
      "\u001b[1;36m  Cell \u001b[1;32mIn [14], line 5\u001b[1;36m\u001b[0m\n\u001b[1;33m    if :\u001b[0m\n\u001b[1;37m       ^\u001b[0m\n\u001b[1;31mSyntaxError\u001b[0m\u001b[1;31m:\u001b[0m invalid syntax\n"
     ]
    }
   ],
   "source": [
    "def add(s, v):\n",
    "    \"\"\"Add v to an ordered list s with no repeats, returning modified s.\n",
    "    (Note: if v is already in s, then don't modify s, but still return it.)\n",
    "    \"\"\"\n",
    "    if s.first > v:\n",
    "        s.first, s.rest = v, Link(s.first, s.rest)\n",
    "    elif s.first < v and empty(s.rest):\n",
    "        s.rest = Link(v)\n",
    "    elif s.first < v:\n",
    "        add(s.rest, v)\n",
    "    return s\n"
   ]
  },
  {
   "cell_type": "markdown",
   "metadata": {},
   "source": [
    "#### Tree Class"
   ]
  },
  {
   "cell_type": "code",
   "execution_count": 17,
   "metadata": {},
   "outputs": [],
   "source": [
    "class Tree:\n",
    "    def __init__(self, label, branches=[]):\n",
    "        for t in branches:\n",
    "            assert(isinstance(t, Tree))\n",
    "        self.label = label\n",
    "        self.branches = list(branches) # to retain a copy, but whyy??????\n",
    "\n",
    "    def is_leaf(self):\n",
    "            return not self.branches\n",
    "    def __repr__(self):\n",
    "        if self.branches:\n",
    "            branch_str = ', ' + repr(self.branches)\n",
    "        else:\n",
    "            branch_str = ''\n",
    "        return 'Tree({0}{1})'.format(repr(self.label), branch_str)\n",
    "\n",
    "    def __str__(self):\n",
    "        return '\\n'.join(self.indented())\n",
    "\n",
    "    def indented(self):\n",
    "        lines = []\n",
    "        for b in self.branches:\n",
    "            for lin in b.indented():\n",
    "                lines.append('    ' + line)\n",
    "        return [str(self.label)] + lines\n",
    "\n",
    "def height(t):\n",
    "    if t.is_leaf():\n",
    "        return 0\n",
    "    else:\n",
    "        return 1 + max([height(b) for b in t.branches])"
   ]
  },
  {
   "cell_type": "markdown",
   "metadata": {},
   "source": [
    "#### Tree Mutation (Examlle: Pruning Trees)\n",
    "Removing subtress from a tree is called pruning\n",
    "\n",
    "Prune branches before recursive processing"
   ]
  },
  {
   "cell_type": "code",
   "execution_count": null,
   "metadata": {},
   "outputs": [],
   "source": [
    "def prune(t, n):\n",
    "    \"\"\"Prune all sub-tress whose label is n.\"\"\"\n",
    "    t.branches = [b for b in t.branches if b.label != n]\n",
    "\n",
    "    for b in t.branches:\n",
    "        prune(b, n)"
   ]
  }
 ],
 "metadata": {
  "kernelspec": {
   "display_name": "Python 3.10.8 64-bit (microsoft store)",
   "language": "python",
   "name": "python3"
  },
  "language_info": {
   "codemirror_mode": {
    "name": "ipython",
    "version": 3
   },
   "file_extension": ".py",
   "mimetype": "text/x-python",
   "name": "python",
   "nbconvert_exporter": "python",
   "pygments_lexer": "ipython3",
   "version": "3.10.8"
  },
  "orig_nbformat": 4,
  "vscode": {
   "interpreter": {
    "hash": "a523bb4ae541fe0eccf7db198b06224712a6299c564a642d5cf021f38b68f3d1"
   }
  }
 },
 "nbformat": 4,
 "nbformat_minor": 2
}
