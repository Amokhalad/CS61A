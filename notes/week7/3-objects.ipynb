{
 "cells": [
  {
   "cell_type": "markdown",
   "metadata": {},
   "source": [
    "# Objects\n",
    "*Oct 7, 2022*"
   ]
  },
  {
   "cell_type": "markdown",
   "metadata": {},
   "source": [
    "- Each *object* has its own local state.\n",
    "- Each object also knows how to manage its own local state, based on method calls.\n",
    "- Method calls are *messages* passed between objects.\n",
    "- Several objects may all be instances of a common type.\n",
    "- Different types may relate to each other."
   ]
  },
  {
   "cell_type": "markdown",
   "metadata": {},
   "source": [
    "### Methods\n",
    "\n",
    "all invoked methods have access to the object via the `self` parameter, and so they can all access and manipulate the object's state.\n",
    "\n",
    "### Dot Expressions.\n",
    "\n",
    "`<expresson> . <name>`\n",
    "\n",
    "- Evaluates to the value of the attribute **looked up** by `<name>` in the object that is the value of the `<expression>.`\n",
    "  - it first looks in the instance to see if `<name>` is bound there, if not look in the class.\n",
    "\n",
    "\n",
    "### Attributes\n",
    "Data stored within either an instance, or the class itself.\n",
    "\n",
    "\n",
    "##### builtin functions\n",
    "- `getattr(<object>, <'name of attr'>))`\n",
    "- `hasattr(<object>, <'name of attr'>)` -> returns a bool if that "
   ]
  }
 ],
 "metadata": {
  "kernelspec": {
   "display_name": "Python 3.10.6 64-bit",
   "language": "python",
   "name": "python3"
  },
  "language_info": {
   "codemirror_mode": {
    "name": "ipython",
    "version": 3
   },
   "file_extension": ".py",
   "mimetype": "text/x-python",
   "name": "python",
   "nbconvert_exporter": "python",
   "pygments_lexer": "ipython3",
   "version": "3.10.6"
  },
  "orig_nbformat": 4,
  "vscode": {
   "interpreter": {
    "hash": "b0fa6594d8f4cbf19f97940f81e996739fb7646882a419484c72d19e05852a7e"
   }
  }
 },
 "nbformat": 4,
 "nbformat_minor": 2
}
