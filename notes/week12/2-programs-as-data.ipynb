{
 "cells": [
  {
   "cell_type": "markdown",
   "metadata": {},
   "source": [
    "# Programs as Data\n",
    "*Nov 9, 2022*"
   ]
  },
  {
   "cell_type": "markdown",
   "metadata": {},
   "source": [
    "```py\n",
    "scm> (list 'quotient 10 2)\n",
    "(quotient 10 2)\n",
    "\n",
    "scm> (eval (list 'quotient 10 2))\n",
    "5\n",
    "```\n",
    "if I want to write a program that generates scheme code, I just build lists. If at any point I want to evaluate that code, just call eval."
   ]
  },
  {
   "cell_type": "code",
   "execution_count": null,
   "metadata": {},
   "outputs": [],
   "source": []
  },
  {
   "cell_type": "markdown",
   "metadata": {},
   "source": [
    "##### Function that writes the expression for factorial:\n",
    "\n",
    "```py\n",
    "(define (fact n)\n",
    "    (if (zero? n) 1\n",
    "    (* n (fact (- n 1))))\n",
    ")\n",
    "\n",
    "(define (fact-expr n)\n",
    "    (if (zero? n) 1\n",
    "    (list '* n (fact-expr (- n 1))))\n",
    ")\n",
    "\n",
    ">>scm (fact-expr 4)\n",
    "(* 4 (* 3 (* 2 (* 1 1))))\n",
    "```"
   ]
  },
  {
   "cell_type": "markdown",
   "metadata": {},
   "source": [
    "##### Function that writes the expression for fib.\n",
    "\n",
    "```python\n",
    "(define (fib n)\n",
    "    (if (<= n 1) n\n",
    "    (+ (fib (- n 2)) (fib (- n 1))))\n",
    ")\n",
    "\n",
    "\n",
    "(define (fib-expr n)\n",
    "    (if (<= n 1) n\n",
    "    (list '+ (fib-expr (- n 2)) (fib-expr (- n 1))))\n",
    ")\n",
    "```\n",
    "\n"
   ]
  },
  {
   "cell_type": "markdown",
   "metadata": {},
   "source": [
    "### Quasiquotation\n",
    "There are two ways to quote an expression (', `). They are different because parts of quasiquote expression can be unquoted with."
   ]
  },
  {
   "cell_type": "code",
   "execution_count": null,
   "metadata": {},
   "outputs": [],
   "source": [
    "\"Quote:      '(a ,(+ 4 1))   =>   (a (unquote (+ 4 1))\"\n",
    "\"Quasiquote: `(a ,(+ 4 1))   =>   (a 5)\""
   ]
  },
  {
   "cell_type": "markdown",
   "metadata": {},
   "source": [
    "Quasiquotation is particularly convenient for generating Scheme expressions."
   ]
  },
  {
   "cell_type": "markdown",
   "metadata": {},
   "source": [
    "#### Example: make adder\n",
    "```\n",
    "(define (make-add-procedure n) `(lambda (d) (+ d ,n)))\n",
    "\n",
    "\n",
    ">>scm (make-add-procedure 2)\n",
    "(lambda (d) (+ d 2))\n",
    "```\n",
    "\n"
   ]
  },
  {
   "cell_type": "markdown",
   "metadata": {},
   "source": [
    "#### Example: While statements\n",
    "What's the sum of the squares of evens numbers less than 10, starting with 2?\n",
    "\n",
    "**In Python:**"
   ]
  },
  {
   "cell_type": "code",
   "execution_count": 4,
   "metadata": {},
   "outputs": [],
   "source": [
    "x, total = 2, 0\n",
    "while x < 10:\n",
    "    total = total + x * x\n",
    "    x += 2"
   ]
  },
  {
   "cell_type": "markdown",
   "metadata": {},
   "source": [
    "In Scheme:\n",
    "\n",
    "```python\n",
    "(begin\n",
    "    (define (f x total)\n",
    "        (if (< x 10)\n",
    "            (f (+ x 2) (+ total (* x x)))\n",
    "            total\n",
    "        )\n",
    "    )\n",
    "    (f 2 0)\n",
    ")\n",
    "```"
   ]
  },
  {
   "cell_type": "markdown",
   "metadata": {},
   "source": [
    "```\n",
    "(define (sum-while initial-x condition add-to-total update-x)\n",
    "    `(begin(\n",
    "        (define (f x total)\n",
    "            (if ,condition\n",
    "                (f (+ x ,update-x) (+ total ,add-to-total))\n",
    "                total\n",
    "            )\n",
    "        )\n",
    "    (f ,initial-x 0))\n",
    "    )\n",
    ")\n",
    "```"
   ]
  },
  {
   "cell_type": "markdown",
   "metadata": {},
   "source": []
  }
 ],
 "metadata": {
  "kernelspec": {
   "display_name": "Python 3.10.6 64-bit",
   "language": "python",
   "name": "python3"
  },
  "language_info": {
   "codemirror_mode": {
    "name": "ipython",
    "version": 3
   },
   "file_extension": ".py",
   "mimetype": "text/x-python",
   "name": "python",
   "nbconvert_exporter": "python",
   "pygments_lexer": "ipython3",
   "version": "3.10.6"
  },
  "orig_nbformat": 4,
  "vscode": {
   "interpreter": {
    "hash": "b0fa6594d8f4cbf19f97940f81e996739fb7646882a419484c72d19e05852a7e"
   }
  }
 },
 "nbformat": 4,
 "nbformat_minor": 2
}
