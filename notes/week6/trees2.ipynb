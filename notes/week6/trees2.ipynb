{
 "cells": [
  {
   "cell_type": "code",
   "execution_count": 33,
   "metadata": {},
   "outputs": [],
   "source": [
    "from tree import *"
   ]
  },
  {
   "cell_type": "code",
   "execution_count": 34,
   "metadata": {},
   "outputs": [],
   "source": [
    "def fib_tree(n):\n",
    "    if n <= 1:\n",
    "        return tree(n)\n",
    "    else:\n",
    "        left, right = fib_tree(n - 2), fib_tree(n - 1)\n",
    "        return tree(label(left) + label(right), [left, right])"
   ]
  },
  {
   "cell_type": "code",
   "execution_count": 40,
   "metadata": {},
   "outputs": [],
   "source": [
    "def count_leaves(t):\n",
    "    if is_leaf(t):\n",
    "        return 1\n",
    "    else:\n",
    "        return sum([count_leaves(b) for b in branches(t)])"
   ]
  },
  {
   "cell_type": "code",
   "execution_count": 51,
   "metadata": {},
   "outputs": [
    {
     "data": {
      "text/plain": [
       "[1, 0, 1, 0, 1, 1, 0, 1]"
      ]
     },
     "execution_count": 51,
     "metadata": {},
     "output_type": "execute_result"
    }
   ],
   "source": [
    "def leaves(t):\n",
    "\n",
    "    if is_leaf(t):\n",
    "        return [label(t)]\n",
    "\n",
    "    return sum([leaves(b) for b in branches(t)], [])\n",
    "leaves(fib_tree(5))"
   ]
  },
  {
   "cell_type": "code",
   "execution_count": 58,
   "metadata": {},
   "outputs": [],
   "source": [
    "def increment_leaves(t):\n",
    "    if is_leaf(t):\n",
    "        return tree(label(t) + 1)\n",
    "    return tree(label(t), [increment_leaves(b) for b in branches(t)])\n",
    "\n",
    "\n",
    "\n",
    "def incremenet(t):\n",
    "    return tree(label(t) + 1, [increment(b) for b in branches(t)])\n",
    "\n",
    "\n",
    "def print_tree(t, indent=0):\n",
    "    print(' '*indent + str(label(t)))\n",
    "    for b in branches(t):\n",
    "        print_tree(b, indent + 3)\n",
    "\n"
   ]
  },
  {
   "cell_type": "code",
   "execution_count": null,
   "metadata": {},
   "outputs": [],
   "source": [
    "def print_sums(t, so_far):\n",
    "    so_far = so_far + label(t)\n",
    "    if is_leaf(t):\n",
    "        print(so_far\n",
    "    else:)\n",
    "        for b in branches(t):\n",
    "            print_sums(t, so_far)"
   ]
  },
  {
   "cell_type": "code",
   "execution_count": 1,
   "metadata": {},
   "outputs": [
    {
     "ename": "SyntaxError",
     "evalue": "closing parenthesis ']' does not match opening parenthesis '(' (1116288342.py, line 6)",
     "output_type": "error",
     "traceback": [
      "\u001b[0;36m  Input \u001b[0;32mIn [1]\u001b[0;36m\u001b[0m\n\u001b[0;31m    return found + sum[count_paths(b, total - label(t) for b in branches(t)]\u001b[0m\n\u001b[0m                                                                           ^\u001b[0m\n\u001b[0;31mSyntaxError\u001b[0m\u001b[0;31m:\u001b[0m closing parenthesis ']' does not match opening parenthesis '('\n"
     ]
    }
   ],
   "source": [
    "def count_paths(t, total):\n",
    "    if label(t) - total = 0:\n",
    "        found = 1\n",
    "    else:\n",
    "        found = 0\n",
    "    return found + sum[count_paths(b, total - label(t) for b in branches(t)]"
   ]
  },
  {
   "cell_type": "code",
   "execution_count": 7,
   "metadata": {},
   "outputs": [
    {
     "ename": "StopIteration",
     "evalue": "<generator object generate_constant at 0x105e61d20>",
     "output_type": "error",
     "traceback": [
      "\u001b[0;31m---------------------------------------------------------------------------\u001b[0m",
      "\u001b[0;31mStopIteration\u001b[0m                             Traceback (most recent call last)",
      "\u001b[1;32m/Users/aljuboori/Documents/Berkeley/Semester 1 Fa22/cs61a/notes-jup/week6/trees2.ipynb Cell 8\u001b[0m in \u001b[0;36m<cell line: 14>\u001b[0;34m()\u001b[0m\n\u001b[1;32m     <a href='vscode-notebook-cell:/Users/aljuboori/Documents/Berkeley/Semester%201%20Fa22/cs61a/notes-jup/week6/trees2.ipynb#X10sZmlsZQ%3D%3D?line=11'>12</a>\u001b[0m t \u001b[39m=\u001b[39m black_hole([\u001b[39m1\u001b[39m,\u001b[39m2\u001b[39m,\u001b[39m3\u001b[39m], \u001b[39m2\u001b[39m)\n\u001b[1;32m     <a href='vscode-notebook-cell:/Users/aljuboori/Documents/Berkeley/Semester%201%20Fa22/cs61a/notes-jup/week6/trees2.ipynb#X10sZmlsZQ%3D%3D?line=12'>13</a>\u001b[0m \u001b[39mnext\u001b[39m(t)\n\u001b[0;32m---> <a href='vscode-notebook-cell:/Users/aljuboori/Documents/Berkeley/Semester%201%20Fa22/cs61a/notes-jup/week6/trees2.ipynb#X10sZmlsZQ%3D%3D?line=13'>14</a>\u001b[0m \u001b[39mnext\u001b[39m(\u001b[39mnext\u001b[39;49m(t))\n",
      "\u001b[0;31mStopIteration\u001b[0m: <generator object generate_constant at 0x105e61d20>"
     ]
    }
   ],
   "source": [
    "def generate_constant(x):\n",
    "    while True:\n",
    "        yield x\n",
    "\n",
    "def black_hole(seq, trap):\n",
    "    for item in seq:\n",
    "        if item == trap:\n",
    "            return generate_constant(trap)\n",
    "        else:\n",
    "            yield item\n",
    "\n",
    "t = black_hole([1,2,3], 2)\n",
    "next(t)\n",
    "next(next(t))"
   ]
  },
  {
   "cell_type": "code",
   "execution_count": null,
   "metadata": {},
   "outputs": [],
   "source": []
  }
 ],
 "metadata": {
  "kernelspec": {
   "display_name": "Python 3.10.6 64-bit",
   "language": "python",
   "name": "python3"
  },
  "language_info": {
   "codemirror_mode": {
    "name": "ipython",
    "version": 3
   },
   "file_extension": ".py",
   "mimetype": "text/x-python",
   "name": "python",
   "nbconvert_exporter": "python",
   "pygments_lexer": "ipython3",
   "version": "3.10.6"
  },
  "orig_nbformat": 4,
  "vscode": {
   "interpreter": {
    "hash": "b0fa6594d8f4cbf19f97940f81e996739fb7646882a419484c72d19e05852a7e"
   }
  }
 },
 "nbformat": 4,
 "nbformat_minor": 2
}
