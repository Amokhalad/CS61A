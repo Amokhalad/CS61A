{
 "cells": [
  {
   "cell_type": "markdown",
   "metadata": {},
   "source": [
    "# Tree Recursion\n",
    "*Sep 16, 2022*\n"
   ]
  },
  {
   "cell_type": "markdown",
   "metadata": {},
   "source": [
    "Tree-shaped processes arise whenever executing the body of a recursive function makes more than one call to that function."
   ]
  },
  {
   "cell_type": "markdown",
   "metadata": {},
   "source": [
    "### Ex 1. Fibonacci"
   ]
  },
  {
   "cell_type": "markdown",
   "metadata": {},
   "source": [
    "$$\n",
    "f(n) = \n",
    "\\begin{cases}\n",
    "    n, & \\text{if}\\ n \\le 1 \\\\\n",
    "    f(n - 2) + f(n - 1), & \\text{otherwise}\n",
    "\\end{cases}\n",
    "$$"
   ]
  },
  {
   "cell_type": "markdown",
   "metadata": {},
   "source": [
    "![](images/fib5tree.png)  \n"
   ]
  },
  {
   "cell_type": "markdown",
   "metadata": {},
   "source": [
    "You can use the trace decorator in ucb module to see what happens when we call the function,\n",
    "\n",
    "simple just put `@trace` ontop of the function name where you define it\n",
    "\n",
    "on the output: \n",
    "- `->` indicates a return value\n",
    "- `:` indicates a function call "
   ]
  },
  {
   "cell_type": "code",
   "execution_count": 1,
   "metadata": {},
   "outputs": [
    {
     "name": "stdout",
     "output_type": "stream",
     "text": [
      "fib(4):\n",
      "    fib(2):\n",
      "        fib(0):\n",
      "        fib(0) -> 0\n",
      "        fib(1):\n",
      "        fib(1) -> 1\n",
      "    fib(2) -> 1\n",
      "    fib(3):\n",
      "        fib(1):\n",
      "        fib(1) -> 1\n",
      "        fib(2):\n",
      "            fib(0):\n",
      "            fib(0) -> 0\n",
      "            fib(1):\n",
      "            fib(1) -> 1\n",
      "        fib(2) -> 1\n",
      "    fib(3) -> 2\n",
      "fib(4) -> 3\n"
     ]
    },
    {
     "data": {
      "text/plain": [
       "3"
      ]
     },
     "execution_count": 1,
     "metadata": {},
     "output_type": "execute_result"
    }
   ],
   "source": [
    "from ucb import trace\n",
    "@trace\n",
    "def fib(n):\n",
    "    if n <= 1:\n",
    "        return n\n",
    "    else:\n",
    "        return fib(n - 2) + fib(n - 1)\n",
    "\n",
    "fib(4)"
   ]
  },
  {
   "cell_type": "markdown",
   "metadata": {},
   "source": [
    "### Ex 2: Counting Partitions"
   ]
  },
  {
   "cell_type": "markdown",
   "metadata": {},
   "source": [
    "The number of partitions of a positive integer n, using parts up to size m, is the number of ways in which n can be expressed as the sum of positive integer parts up to m in increasing order."
   ]
  },
  {
   "cell_type": "markdown",
   "metadata": {},
   "source": [
    "$$\n",
    "p(n) = \\begin{cases}\n",
    "    1, & \\text{if}\\ n = 0 \\\\\n",
    "    0, & \\text{m == 0 or n < 0} \\\\\n",
    "    p(n-m, m) + p(n, m - 1), & \\text{otherwise}\n",
    "\\end{cases}\n",
    "$$"
   ]
  }
 ],
 "metadata": {
  "kernelspec": {
   "display_name": "Python 3.10.6 64-bit",
   "language": "python",
   "name": "python3"
  },
  "language_info": {
   "codemirror_mode": {
    "name": "ipython",
    "version": 3
   },
   "file_extension": ".py",
   "mimetype": "text/x-python",
   "name": "python",
   "nbconvert_exporter": "python",
   "pygments_lexer": "ipython3",
   "version": "3.10.6"
  },
  "orig_nbformat": 4,
  "vscode": {
   "interpreter": {
    "hash": "b0fa6594d8f4cbf19f97940f81e996739fb7646882a419484c72d19e05852a7e"
   }
  }
 },
 "nbformat": 4,
 "nbformat_minor": 2
}
