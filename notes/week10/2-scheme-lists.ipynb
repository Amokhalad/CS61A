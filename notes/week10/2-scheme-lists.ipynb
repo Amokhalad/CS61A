{
 "cells": [
  {
   "cell_type": "markdown",
   "metadata": {},
   "source": [
    "### Scheme Lists\n",
    "*Oct 31, 2022*\n"
   ]
  },
  {
   "cell_type": "markdown",
   "metadata": {},
   "source": [
    "Every scheme list is a linked list\n",
    "\n",
    "- **cons:** two-arg procedure that creates a linked list\n",
    "- **car:** procedure that returns the first elem of a list.\n",
    "- **cdr:** procedure that returns the rest of a list.\n",
    "- **nil:** the empty list\n",
    "\n",
    "![](images/20221101121055.png)\n",
    "or\n",
    "`(list 1 2 3 4)`"
   ]
  },
  {
   "cell_type": "markdown",
   "metadata": {},
   "source": [
    "in code.cs61a.org, to visualize a list, call `(draw <list>)`"
   ]
  },
  {
   "cell_type": "markdown",
   "metadata": {},
   "source": [
    "**(append s t)**: list the elements of s and t; append can be called on more than 2 lists.\n",
    "**(map f s):** call a procedure f on each element of a list s and list the results\n",
    "**(filter f s):** call a procedure f on each element of a list s and list the elements for which a true vale is the result.\n",
    "**(apply f s):** call a procedure f with the elements of a list as its arguments"
   ]
  }
 ],
 "metadata": {
  "kernelspec": {
   "display_name": "Python 3.10.8 64-bit (microsoft store)",
   "language": "python",
   "name": "python3"
  },
  "language_info": {
   "name": "python",
   "version": "3.10.8"
  },
  "orig_nbformat": 4,
  "vscode": {
   "interpreter": {
    "hash": "a523bb4ae541fe0eccf7db198b06224712a6299c564a642d5cf021f38b68f3d1"
   }
  }
 },
 "nbformat": 4,
 "nbformat_minor": 2
}
