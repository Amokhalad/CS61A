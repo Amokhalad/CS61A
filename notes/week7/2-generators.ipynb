{
 "cells": [
  {
   "cell_type": "markdown",
   "metadata": {},
   "source": [
    "# Generators\n",
    "*Oct 5, 2022*"
   ]
  },
  {
   "cell_type": "markdown",
   "metadata": {},
   "source": [
    "****"
   ]
  },
  {
   "cell_type": "markdown",
   "metadata": {},
   "source": [
    "Def: a generator is a special type of iterator, that's returns from a generator function. A generator function uses `yield` instead of `return`\n",
    "\n",
    "\n",
    "- A geneartor function is a function that yields values instead of retunrning them\n",
    "- a normal function returns once; a generator function can yield multiple times\n",
    "- a generator is an itertor created automatically by calling a generator function.\n",
    "- when a generator function is called, it returns a generator that iterates over its yields."
   ]
  },
  {
   "cell_type": "markdown",
   "metadata": {},
   "source": [
    "Example: Evens"
   ]
  },
  {
   "cell_type": "code",
   "execution_count": 2,
   "metadata": {},
   "outputs": [
    {
     "data": {
      "text/plain": [
       "[2, 4, 6, 8]"
      ]
     },
     "execution_count": 2,
     "metadata": {},
     "output_type": "execute_result"
    }
   ],
   "source": [
    "def evens(start, end):\n",
    "    even = start + (start % 2)\n",
    "    while even < end:\n",
    "        yield even\n",
    "        even += 2\n",
    "\n",
    "t = evens(2, 10)\n",
    "list(t)"
   ]
  },
  {
   "cell_type": "markdown",
   "metadata": {},
   "source": [
    "### Generators and Iterators\n",
    "a `yield from` statement yields all values from an iterator or iterable.\n",
    "\n",
    "#### Example: Countdown!"
   ]
  },
  {
   "cell_type": "code",
   "execution_count": 3,
   "metadata": {},
   "outputs": [],
   "source": [
    "def countdown(n):\n",
    "    if n:\n",
    "        yield n\n",
    "        yield from count_down(n - 1)"
   ]
  },
  {
   "cell_type": "markdown",
   "metadata": {},
   "source": [
    "#### Example: Prefixes"
   ]
  },
  {
   "cell_type": "code",
   "execution_count": 4,
   "metadata": {},
   "outputs": [],
   "source": [
    "def prefixes(s):\n",
    "    if s:\n",
    "        yield from prefixes(s[:-1])\n",
    "        yield s"
   ]
  },
  {
   "cell_type": "markdown",
   "metadata": {},
   "source": [
    "#### Example: Partitions\n",
    "a partition of a positive interger n, using parts up to size m, is a way in which n can be expressed as the sum of positive integer parts up to m in increasing order."
   ]
  },
  {
   "cell_type": "code",
   "execution_count": 5,
   "metadata": {},
   "outputs": [],
   "source": [
    "def partitions(n, m):\n",
    "    if n < 0 or m == 0:\n",
    "        return 0\n",
    "    if n == 0:\n",
    "        return 1\n",
    "    else:\n",
    "        return partitions(n-m, m) + partitions(n, m - 1)"
   ]
  },
  {
   "cell_type": "code",
   "execution_count": 1,
   "metadata": {},
   "outputs": [
    {
     "data": {
      "text/plain": [
       "['4 + 2',\n",
       " '4 + 1 + 1',\n",
       " '3 + 3',\n",
       " '3 + 2 + 1',\n",
       " '3 + 1 + 1 + 1',\n",
       " '2 + 2 + 2',\n",
       " '2 + 2 + 1 + 1',\n",
       " '2 + 1 + 1 + 1 + 1',\n",
       " '1 + 1 + 1 + 1 + 1 + 1']"
      ]
     },
     "execution_count": 1,
     "metadata": {},
     "output_type": "execute_result"
    }
   ],
   "source": [
    "def list_partitions(n, m):\n",
    "    if n < 0 or m == 0:\n",
    "        return []\n",
    "    else:\n",
    "        exact_match = []\n",
    "        if n == m:\n",
    "            exact_match = [str(m)]\n",
    "        # with_m = [p + [m] for p in list_partitions(n - m, m)]\n",
    "        with_m = [str(m) + ' + ' + p for p in list_partitions(n - m, m)]\n",
    "\n",
    "        without_m = list_partitions(n, m - 1)\n",
    "        return exact_match + with_m + without_m\n",
    "\n",
    "list_partitions(6, 4)"
   ]
  },
  {
   "cell_type": "code",
   "execution_count": null,
   "metadata": {},
   "outputs": [],
   "source": [
    "def list_partitions_generator(n, m):\n",
    "    if n > 0 and m > 0:\n",
    "        if n == m:\n",
    "            yield str(m)\n",
    "        for p in list_partitions(n - m, m):\n",
    "            yield p + ' + ' +  str(m)\n",
    "        yield from list_partitions_generator(n, m - 1)"
   ]
  }
 ],
 "metadata": {
  "kernelspec": {
   "display_name": "Python 3.10.6 64-bit",
   "language": "python",
   "name": "python3"
  },
  "language_info": {
   "codemirror_mode": {
    "name": "ipython",
    "version": 3
   },
   "file_extension": ".py",
   "mimetype": "text/x-python",
   "name": "python",
   "nbconvert_exporter": "python",
   "pygments_lexer": "ipython3",
   "version": "3.10.6"
  },
  "orig_nbformat": 4,
  "vscode": {
   "interpreter": {
    "hash": "b0fa6594d8f4cbf19f97940f81e996739fb7646882a419484c72d19e05852a7e"
   }
  }
 },
 "nbformat": 4,
 "nbformat_minor": 2
}
