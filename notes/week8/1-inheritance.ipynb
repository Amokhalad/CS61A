{
 "cells": [
  {
   "cell_type": "markdown",
   "metadata": {},
   "source": [
    "# Inheritance\n",
    "*Oct 10, 2022*\n"
   ]
  },
  {
   "cell_type": "markdown",
   "metadata": {},
   "source": [
    "### Recap of objects:\n",
    "- all objects have attributes, which are name-value pairs\n",
    "- classes are objects too, so they have attributes\n",
    "- instance attribute: attribute of an instance\n",
    "- class attribute: attribute of the class of an instance\n",
    "\n",
    "**Python Object System:**\n",
    "\n",
    "functions are objects  \n",
    "\n",
    "\n",
    "Bound methods are also objects: a function that has its first parameter \"self\" already bound to an instance.  \n",
    "\n",
    "dot expressions evaluate to bound methods for class attributes that are functions."
   ]
  },
  {
   "cell_type": "markdown",
   "metadata": {},
   "source": [
    "### Attribute Assignment\n",
    "assignments statements with a dot expression on their left-hand side affect attributes for the object of that dot expression.\n",
    "- if the object is an instance then assignment sets an instance attribute\n",
    "- if the object is a class, then assignments sets a class attribute.\n",
    "\n",
    "Attribute assignment statements adds or modifies the attribute name.\n",
    "\n",
    "\n",
    "\n",
    "\n",
    "\n"
   ]
  },
  {
   "cell_type": "markdown",
   "metadata": {},
   "source": [
    "## Inheritance\n",
    "Inheritance is a method for relating classes together.\n",
    "\n",
    "A common use: two similar classes differ in their degree of specialization.\n",
    "\n",
    "The specialized class may have the same attributes as the general class, along with some special-case behavior.\n",
    "\n",
    "```python\n",
    "class <'name'>(<'base class'>):\n",
    "    <suite>\n",
    "```\n",
    "\n",
    "conceptually, the new *subclass* \"shares\" attributes with its base class.\n",
    "\n",
    "The subclass may *override* certain inherited attributes.\n",
    "\n",
    "Using inheritance, we implement a subclass by specifying its difference from the base class.\n",
    "\n",
    "Example: inheriting from `Account` class:\n",
    "\n",
    "```python\n",
    "class CheckingAccount(Account):\n",
    "    \"\"\"A bank account that charges for withdrawals.\"\"\"\n",
    "    withdraw_fee = 1\n",
    "    interest = 0.01\n",
    "    def withdraw(self, account):\n",
    "        return Account.withdraw(self, amount + self.withdraw_fee)\n",
    "```"
   ]
  },
  {
   "cell_type": "markdown",
   "metadata": {},
   "source": [
    "### Looking Up Attribute Names on Classes\n",
    "Base class attributes aren't copied into subclasses!\n",
    "\n",
    "To Look up a name in a class.\n",
    "1. If it names an attribute in the class, return the attribute value.\n",
    "2. Otherwise, look up the name in the base class, if there is one.\n",
    "\n",
    "```python\n",
    ">>> ch = CheckingAccount('Tom')\n",
    "# calls Account.__init__, since CheckingAcc doesn't have init, Calls\n",
    ">>> ch.interest # Found in CheckingAccount\n",
    "0.01\n",
    ">>> ch.deposit(20) # Found in Account\n",
    "20\n",
    "```"
   ]
  },
  {
   "cell_type": "markdown",
   "metadata": {},
   "source": [
    "## Designing for Inheritance\n",
    "Don't repeat yourself; use existing implementations.\n",
    "\n",
    "Attributes that have been overridden are still accessible via class objects.\n",
    "\n",
    "\n",
    "- Notice in the overridden withdraw method for `CheckingAccount`, we still have access to the other withdraw function via `Account.withdraw`.\n",
    "\n",
    "- Moreover, we use `self.withdraw_fee` instead of `CheckingAccount.withdraw_fee` since if a particular checking account had a different withdraw_fee, we'd use that instead.\n",
    "\n",
    "\n",
    "### Inheritance vs Compositions\n",
    "Oop shines when we adopt the metaphor.\n",
    "\n",
    "Inheritance is best for representing ***is-a*** relationships.\n",
    "- E.g., a checking account ***is a*** specific type of account. So, CheckingAccount inherits from Account.\n",
    "\n",
    "Composition is best for representing # Account.__init__, since CheckingAcc doesn't have init, Calls relationships.\n",
    "- E.g., a bank **has a** collection of bank account it manages. So, a bank has a list of account as an attribute.\n",
    "\n",
    "### Multiple Inheritance\n",
    "when a subclass has multiple base classes.\n",
    "\n",
    "Example:\n",
    "```python\n",
    "class ScamAccount(CheckingAccount, SavingsAccount):\n",
    "    def __init__(self, account_holder):\n",
    "        self.holder = account_holder\n",
    "        self.balance = 1    # a free dollar!\n",
    "```"
   ]
  },
  {
   "cell_type": "markdown",
   "metadata": {},
   "source": []
  }
 ],
 "metadata": {
  "kernelspec": {
   "display_name": "Python 3.10.6 64-bit",
   "language": "python",
   "name": "python3"
  },
  "language_info": {
   "name": "python",
   "version": "3.10.6"
  },
  "orig_nbformat": 4,
  "vscode": {
   "interpreter": {
    "hash": "b0fa6594d8f4cbf19f97940f81e996739fb7646882a419484c72d19e05852a7e"
   }
  }
 },
 "nbformat": 4,
 "nbformat_minor": 2
}
