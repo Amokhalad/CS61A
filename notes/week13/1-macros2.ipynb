{
 "cells": [
  {
   "cell_type": "markdown",
   "metadata": {},
   "source": [
    "## Macros\n",
    "\n",
    "`(+ ,(* 2 3) 1)` evaluates `(+ 6 1)` by unquoting `(* 2 3)` so it gets evaluated."
   ]
  },
  {
   "cell_type": "markdown",
   "metadata": {},
   "source": [
    "```scm\n",
    "(define (square-expr term) `(* ,term ,term))\n",
    "\n",
    "`(+ ,(square-expr 'a) ,(square-expr 'b))\n",
    "```"
   ]
  },
  {
   "cell_type": "markdown",
   "metadata": {},
   "source": [
    "### Macros Perform Code Transformation\n",
    "a macro is an operation performed on the source code of a program before evaluation. Scheme has a `define-macro` special form that defines a source code Transformation.\n",
    "\n",
    "evaluation procedure of a macro call expression:\n",
    "1. evaluate the operator sub-expression, which evaluates to a macro.\n",
    "2. call the macro proc on the operand expressions ***without evaluating them first***\n",
    "3. Evaluate the expression returned from the macro procedure\n"
   ]
  },
  {
   "cell_type": "markdown",
   "metadata": {},
   "source": []
  }
 ],
 "metadata": {
  "kernelspec": {
   "display_name": "Python 3.10.6 64-bit",
   "language": "python",
   "name": "python3"
  },
  "language_info": {
   "name": "python",
   "version": "3.10.6"
  },
  "orig_nbformat": 4,
  "vscode": {
   "interpreter": {
    "hash": "b0fa6594d8f4cbf19f97940f81e996739fb7646882a419484c72d19e05852a7e"
   }
  }
 },
 "nbformat": 4,
 "nbformat_minor": 2
}
