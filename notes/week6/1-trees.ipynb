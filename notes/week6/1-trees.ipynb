{
 "cells": [
  {
   "cell_type": "markdown",
   "metadata": {},
   "source": [
    "## Trees\n",
    "\n",
    "*Sep 26, 2022*"
   ]
  },
  {
   "cell_type": "markdown",
   "metadata": {},
   "source": [
    "There is two different metaphors used regularly to describe trees\n",
    "1. **Recursive description (wooden trees):**\n",
    "   - a **tree** has a root **label** and a list of **branches**\n",
    "   - each branch is a **tree**\n",
    "   - a tree with zero branches is called a **leaf**\n",
    "  \n",
    "2. **Relative Description** (family trees):\n",
    "   - Each location in a tree is called a **node**\n",
    "   - Each **node** has a **label** that can be any value\n",
    "   - One node can be the **parent/child** of another\n",
    "\n",
    "\n",
    "*People often refer to labels by their location: \"each parent is the sum of its children\"*"
   ]
  },
  {
   "cell_type": "markdown",
   "metadata": {},
   "source": [
    "## Implementing the Tree Abstraction\n",
    "\n",
    "for a tree:\n",
    "```md\n",
    "  3\n",
    " / \\\n",
    "1   2\n",
    "   / \\\n",
    "  1   1\n",
    "```\n",
    "```py\n",
    ">>> tree(3, [tree(1),\n",
    "...          tree(2, [tree(1),\n",
    "...                   tree(1)]))\n",
    "[3., [1], [2, [1], [1]]]\n",
    "```\n"
   ]
  },
  {
   "cell_type": "markdown",
   "metadata": {},
   "source": [
    "notice that the first argument to tree is the label, and the second argument is a list of the branches"
   ]
  },
  {
   "cell_type": "code",
   "execution_count": 5,
   "metadata": {},
   "outputs": [],
   "source": [
    "def tree(label, branches=[]):\n",
    "    for branch in branches: # verifies the tree definition.\n",
    "        assert is_tree(branch), 'branches must be trees'\n",
    "    return [label] + list(branches) # list() ensures that if I pass in some other kind of sequence, it gets converted to a list before adding to another list.\n",
    "\n",
    "def label(tree): # a selector\n",
    "    return tree[0]\n",
    "\n",
    "def branches(tree): # a selector\n",
    "    return tree[1:]\n",
    "\n",
    "def is_tree(obj):\n",
    "    if type(obj) != list or len(obj) < 1:\n",
    "        return False\n",
    "    for branch in branches(obj): # recursively checks the branches of that tree. \n",
    "        if not is_tree(branch):\n",
    "            return False\n",
    "    return True\n",
    "\n",
    "def is_leaf(obj):\n",
    "    return not branches(obj) # empty branches"
   ]
  },
  {
   "cell_type": "code",
   "execution_count": 13,
   "metadata": {},
   "outputs": [],
   "source": [
    "t = tree(1, [tree(5, [tree(7)]), tree(6)])"
   ]
  },
  {
   "cell_type": "markdown",
   "metadata": {},
   "source": [
    "## Tree Processing\n",
    "\n",
    "functions that take trees as inputs or return trees as outputs, are often tree recursive themselves. Lets look at an example."
   ]
  },
  {
   "cell_type": "code",
   "execution_count": 17,
   "metadata": {},
   "outputs": [],
   "source": [
    "def fib_tree(n):\n",
    "    if n <= 1:\n",
    "        return tree(n)\n",
    "    else:\n",
    "        left, right = fib_tree(n - 2), fib_tree(n - 1)\n",
    "        return tree(label(left) + label(right), [left, right])"
   ]
  },
  {
   "cell_type": "code",
   "execution_count": 21,
   "metadata": {},
   "outputs": [
    {
     "data": {
      "text/plain": [
       "[3, [1, [0], [1]], [2, [1], [1, [0], [1]]]]"
      ]
     },
     "execution_count": 21,
     "metadata": {},
     "output_type": "execute_result"
    }
   ],
   "source": [
    "fib_tree(4)"
   ]
  },
  {
   "cell_type": "code",
   "execution_count": 22,
   "metadata": {},
   "outputs": [],
   "source": [
    "def count_leaves(t): # my implementation\n",
    "    if is_leaf(t):\n",
    "        return 1\n",
    "    else:\n",
    "        total = 0\n",
    "        for branch in branches(t):\n",
    "            total += count_leaves(branch)\n",
    "    return total\n",
    "\n",
    "def count_leaves_john(t): # Prof. John implementation\n",
    "    if is_leaf(t):\n",
    "        return 1\n",
    "    else:\n",
    "        return sum([count_leaves(b) for b in branches(t)])"
   ]
  },
  {
   "cell_type": "code",
   "execution_count": null,
   "metadata": {},
   "outputs": [],
   "source": []
  },
  {
   "cell_type": "code",
   "execution_count": 25,
   "metadata": {},
   "outputs": [
    {
     "data": {
      "text/plain": [
       "89"
      ]
     },
     "execution_count": 25,
     "metadata": {},
     "output_type": "execute_result"
    }
   ],
   "source": [
    "count_leaves(fib_tree(10))"
   ]
  },
  {
   "cell_type": "markdown",
   "metadata": {},
   "source": [
    "### Discussion Question\n",
    "implement `leaves` which returns a list of the leaf labels of a tree."
   ]
  },
  {
   "cell_type": "code",
   "execution_count": 37,
   "metadata": {},
   "outputs": [
    {
     "data": {
      "text/plain": [
       "[1, 0, 1, 0, 1, 1, 0, 1]"
      ]
     },
     "execution_count": 37,
     "metadata": {},
     "output_type": "execute_result"
    }
   ],
   "source": [
    "def leaves(t):\n",
    "    if is_leaf(t):\n",
    "        return [label(t)]\n",
    "    else:\n",
    "        return sum([leaves(b) for b in branches(t)], [])\n",
    "\n",
    "leaves(fib_tree(5))"
   ]
  },
  {
   "cell_type": "markdown",
   "metadata": {},
   "source": [
    "### Creating Trees"
   ]
  },
  {
   "cell_type": "markdown",
   "metadata": {},
   "source": [
    "a function that creates a tree from another tree is typically also recursive"
   ]
  },
  {
   "cell_type": "code",
   "execution_count": 39,
   "metadata": {},
   "outputs": [],
   "source": [
    "def increment_leaves(t):\n",
    "    \"\"\"Return a tree like t but with leaf labels incremented\"\"\"\n",
    "    if is_leaf(t):\n",
    "        return tree(label(t) + 1)\n",
    "    else:\n",
    "        return tree(label(t), [increment_leaves(b) for b in branches(t)])"
   ]
  },
  {
   "cell_type": "code",
   "execution_count": 2,
   "metadata": {},
   "outputs": [],
   "source": [
    "def increment(t):\n",
    "    \"\"\"Return a tree like t but with all labels incremented.\"\"\"\n",
    "    return tree(label(t) + 1, [increment(b) for b in branches(t)])\n",
    "# Notice we don't need a base case since when we are at a leaf, it will have no branches, so the list comp. returns [], so increment will return tree(label(t) + 1, [])\n",
    "# also notice that we won't make any recursive calls when we are at a leaf (list comp. won't loop.)"
   ]
  },
  {
   "cell_type": "markdown",
   "metadata": {},
   "source": [
    "### Printing Trees"
   ]
  },
  {
   "cell_type": "code",
   "execution_count": 63,
   "metadata": {},
   "outputs": [],
   "source": [
    "def print_tree(t, indent=0):\n",
    "    print(' ' * indent + str(label(t)))\n",
    "    for b in branches(t):\n",
    "        print_tree(b, indent + 3) # indentation by 3 to make it more clear\n",
    "\n",
    "\n",
    "# note: indentation level of a label, corresponds to it's depth in the tree."
   ]
  },
  {
   "cell_type": "code",
   "execution_count": 65,
   "metadata": {},
   "outputs": [
    {
     "name": "stdout",
     "output_type": "stream",
     "text": [
      "3\n",
      "   1\n",
      "      0\n",
      "      1\n",
      "   2\n",
      "      1\n",
      "      1\n",
      "         0\n",
      "         1\n"
     ]
    }
   ],
   "source": [
    "print_tree(fib_tree(4))"
   ]
  },
  {
   "cell_type": "markdown",
   "metadata": {},
   "source": [
    "### Example: Summing Paths\n",
    "summing all the labels along a path from the root to a leaf of a tree, then printing out that sum."
   ]
  },
  {
   "cell_type": "code",
   "execution_count": 68,
   "metadata": {},
   "outputs": [],
   "source": [
    "def print_sums(t):\n",
    "    def sums(t, sum_so_far):\n",
    "        sum_so_far += label(t)\n",
    "        if is_leaf(t):\n",
    "            print(sum_so_far)\n",
    "        else:\n",
    "            for b in branches(t):\n",
    "                print_sums(b, sum_so_far)\n",
    "    return sums(t, 0)"
   ]
  },
  {
   "cell_type": "markdown",
   "metadata": {},
   "source": [
    "### Example: Counting Paths"
   ]
  },
  {
   "cell_type": "code",
   "execution_count": 69,
   "metadata": {},
   "outputs": [],
   "source": [
    "def count_paths(t, total):\n",
    "    \"\"\"Return the number of paths from the root to any node in t for which the labels along the path sum to total\"\"\"\n",
    "    if label(t) == total:\n",
    "        found = 1\n",
    "    else:\n",
    "        found = 0\n",
    "    return found + sum([count_paths(b, total - label(t)) for b in branches(t)])"
   ]
  }
 ],
 "metadata": {
  "kernelspec": {
   "display_name": "Python 3.10.7 64-bit (microsoft store)",
   "language": "python",
   "name": "python3"
  },
  "language_info": {
   "codemirror_mode": {
    "name": "ipython",
    "version": 3
   },
   "file_extension": ".py",
   "mimetype": "text/x-python",
   "name": "python",
   "nbconvert_exporter": "python",
   "pygments_lexer": "ipython3",
   "version": "3.10.7"
  },
  "orig_nbformat": 4,
  "vscode": {
   "interpreter": {
    "hash": "a523bb4ae541fe0eccf7db198b06224712a6299c564a642d5cf021f38b68f3d1"
   }
  }
 },
 "nbformat": 4,
 "nbformat_minor": 2
}
