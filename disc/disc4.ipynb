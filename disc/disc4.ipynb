{
 "cells": [
  {
   "cell_type": "markdown",
   "metadata": {},
   "source": [
    "## Tree Recursion, Python Lists, Sequences"
   ]
  },
  {
   "cell_type": "markdown",
   "metadata": {},
   "source": [
    "### Q1: Count Stair Ways\n",
    "Imagine that you want to go up a flight of stairs that has n steps, where n is a positive integer. You can either take 1 or 2 steps each time. How many different ways can you go up this flight of stairs? In this question, you'll write a function count_stair_ways that solves this problem. Before you code your approach, consider these questions.\n",
    "\n",
    "How many different ways are there to go up a flight of stairs with n = 1 step? How about n = 2 steps? Try writing out some other examples and see if you notice any patterns."
   ]
  },
  {
   "cell_type": "code",
   "execution_count": 1,
   "metadata": {},
   "outputs": [],
   "source": [
    "def count_stair_ways(n):\n",
    "    if n == 1:\n",
    "        return 1\n",
    "    if n == 2:\n",
    "        return 2\n",
    "    return count_stair_ways(n - 2) + count_stair_ways(n - 1)"
   ]
  },
  {
   "cell_type": "markdown",
   "metadata": {},
   "source": [
    "### Q2: Count K\n",
    "\n",
    "(Hard one and good one, review)\n",
    "\n",
    "Consider a special version of the count_stair_ways problem, where instead of taking 1 or 2 steps, we are able to take up to and including k steps at a time. Write a function count_k that figures out the number of paths for this scenario. Assume n and k are positive."
   ]
  },
  {
   "cell_type": "code",
   "execution_count": null,
   "metadata": {},
   "outputs": [],
   "source": [
    "def count_k(n, k):\n",
    "    if n < 0:\n",
    "        return 0\n",
    "    if n == 0:\n",
    "        return 1\n",
    "    else:\n",
    "        i = 1\n",
    "        total = 0\n",
    "        while i <= k:\n",
    "            total += count_k(n - i, k)\n",
    "            i += 1\n",
    "        return total"
   ]
  },
  {
   "cell_type": "markdown",
   "metadata": {},
   "source": [
    "## Lists"
   ]
  },
  {
   "cell_type": "markdown",
   "metadata": {},
   "source": [
    "### Q4: Even weighted\n",
    "\n",
    "Write a function that takes a list s and returns a new list that keeps only the even-indexed elements of s and multiplies them by their corresponding index."
   ]
  },
  {
   "cell_type": "code",
   "execution_count": 2,
   "metadata": {},
   "outputs": [
    {
     "data": {
      "text/plain": [
       "[0, 6, 20]"
      ]
     },
     "execution_count": 2,
     "metadata": {},
     "output_type": "execute_result"
    }
   ],
   "source": [
    "def even_weighted(s):\n",
    "    return [i*s[i] for i in range(len(s)) if i % 2 == 0]\n",
    "\n",
    "x = list(range(1, 7))\n",
    "even_weighted(x)"
   ]
  },
  {
   "cell_type": "markdown",
   "metadata": {},
   "source": [
    "### Q5: Max Product (hella hard, review)"
   ]
  },
  {
   "cell_type": "markdown",
   "metadata": {},
   "source": [
    "Write a function that takes in a list and returns the maximum product that can be formed using nonconsecutive elements of the list. The input list will contain only numbers greater than or equal to 1."
   ]
  },
  {
   "cell_type": "code",
   "execution_count": null,
   "metadata": {},
   "outputs": [],
   "source": [
    "\"\"\"\n",
    "s = [10, 3, 1, 9, 2]\n",
    "\"\"\"\n",
    "\n",
    "def max_product(s):\n",
    "    if not s:\n",
    "        return 1\n",
    "    else:\n",
    "        next_non_consec_elements = s[0] * max_product(s[2])\n",
    "        recurse_next_element = max_product(s[1:])\n",
    "        max(next_elements, recurse_next_element)\n"
   ]
  }
 ],
 "metadata": {
  "kernelspec": {
   "display_name": "Python 3.10.6 64-bit",
   "language": "python",
   "name": "python3"
  },
  "language_info": {
   "codemirror_mode": {
    "name": "ipython",
    "version": 3
   },
   "file_extension": ".py",
   "mimetype": "text/x-python",
   "name": "python",
   "nbconvert_exporter": "python",
   "pygments_lexer": "ipython3",
   "version": "3.10.6"
  },
  "orig_nbformat": 4,
  "vscode": {
   "interpreter": {
    "hash": "b0fa6594d8f4cbf19f97940f81e996739fb7646882a419484c72d19e05852a7e"
   }
  }
 },
 "nbformat": 4,
 "nbformat_minor": 2
}
