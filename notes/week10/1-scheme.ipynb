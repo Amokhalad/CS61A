{
 "cells": [
  {
   "cell_type": "markdown",
   "metadata": {},
   "source": [
    "## Scheme\n",
    "*Oct 28, 22*"
   ]
  },
  {
   "cell_type": "markdown",
   "metadata": {},
   "source": [
    "### Scheme Fundamentals\n",
    "scheme programs consist of expressions.\n",
    "- primitive expressions\n",
    "- combination of primitives.\n",
    "\n",
    "Call Expressions include an **operator** and 0 or more operands in parentheses."
   ]
  },
  {
   "cell_type": "markdown",
   "metadata": {},
   "source": [
    "some misc procedures:\n",
    "```\n",
    "number?\n",
    "zero?\n",
    "integer?\n",
    "```\n",
    "note the question mark is part of the name."
   ]
  },
  {
   "cell_type": "markdown",
   "metadata": {},
   "source": [
    "### Special Forms (other type of expressions)\n",
    "**def:** A combination that is not a call expressions is a special form:\n",
    "\n",
    "- **if expression:** `(if <predicate> <consequent> <alt>)`\n",
    "  - evaluation:\n",
    "    1. evaluate the predicate exp.\n",
    "    2. evaluate either the consequent or alternative\n",
    "- **and/or:** `(and <e1> ... <en>)`\n",
    "- **bind symbols:** `(define (<symbol> <formal param>) <body>)`\n",
    "  - *uses same model of environments as python*\n"
   ]
  },
  {
   "cell_type": "code",
   "execution_count": 6,
   "metadata": {},
   "outputs": [
    {
     "data": {
      "text/plain": [
       "4.0"
      ]
     },
     "execution_count": 6,
     "metadata": {},
     "output_type": "execute_result"
    }
   ],
   "source": [
    "def average(x, y):\n",
    "    return (x + y) / 2\n",
    "\n",
    "def sqrt(x):\n",
    "    def update(guess):\n",
    "        if guess**2 == x:\n",
    "            return guess\n",
    "        else:\n",
    "            return update(average(guess, x / guess))\n",
    "    return update(1)\n",
    "sqrt(16)"
   ]
  },
  {
   "cell_type": "markdown",
   "metadata": {},
   "source": [
    "```python\n",
    "(define (update x y)\n",
    "    (/ (+ x y) 2))\n",
    "    \n",
    "(define (sqrt x)\n",
    "    define (update guess)\n",
    "        (if (= (square guess) x)\n",
    "            guess\n",
    "            (update (average guess (/ x guess)))))\n",
    "    (update 1)\n",
    "```"
   ]
  },
  {
   "cell_type": "markdown",
   "metadata": {},
   "source": [
    "#### Lambda expressions\n",
    "lambda expressions evaluate to anonymous procedures.\n",
    "\n",
    "```python\n",
    "(lambda (<formal-params>) <body>)\n",
    "\n",
    "(define (plus4 x) (+ x 4))\n",
    "(define plus4 (lambda (x) (+ x 4)))\n",
    "```\n",
    "note the second one binds the name plus4 to the lambda expression\n"
   ]
  },
  {
   "cell_type": "markdown",
   "metadata": {},
   "source": [
    "### More Special Forms"
   ]
  },
  {
   "cell_type": "markdown",
   "metadata": {},
   "source": [
    "##### Cond & Begin\n",
    "\n",
    "the `cond` special form behaves like `if-else-else` statements in Python.\n",
    "- **cond** has as the rest of its expressions a bunch of pairs, where the pairs are the condition and consequent\n",
    "- the **begin** special form combines multiple expressions into one expression, since in scheme there is space for only one expression."
   ]
  },
  {
   "cell_type": "code",
   "execution_count": null,
   "metadata": {},
   "outputs": [],
   "source": [
    "x = 0\n",
    "if x > 10:\n",
    "      print('big')\n",
    "elif x > 5:\n",
    "      print('medium')\n",
    "else:\n",
    "      print('small')"
   ]
  },
  {
   "cell_type": "code",
   "execution_count": null,
   "metadata": {},
   "outputs": [],
   "source": [
    "\"in Scheme:\"\n",
    "(cond ((> x 10) (print 'big))\n",
    "      ((> x 10) (print 'medium))\n",
    "      (else     (print 'small))\n",
    "\n",
    "\"or a better form:\"\n",
    "\n",
    "(print\n",
    "      (cond ((> x 10) 'big)\n",
    "            ((> x 10) 'medium)\n",
    "            (else     'small)))"
   ]
  },
  {
   "cell_type": "markdown",
   "metadata": {},
   "source": [
    "`begin` demo"
   ]
  },
  {
   "cell_type": "code",
   "execution_count": null,
   "metadata": {},
   "outputs": [],
   "source": [
    "if x > 10:\n",
    "    print('big')\n",
    "    print('guy')\n",
    "else:\n",
    "    print('small')\n",
    "    print('fry')"
   ]
  },
  {
   "cell_type": "code",
   "execution_count": null,
   "metadata": {},
   "outputs": [],
   "source": [
    "\"In Scheme:\"\n",
    "(cond ((x > 10) (begin (print 'big)     (print 'guy)))\n",
    "      (else     (begin (print 'small)  (print 'fry))))"
   ]
  },
  {
   "cell_type": "markdown",
   "metadata": {},
   "source": [
    "#### Let Expressions\n",
    "The *let* special form binds symbols to values temporarily; just for one Expression\n",
    "- there is not python alternative"
   ]
  },
  {
   "cell_type": "code",
   "execution_count": null,
   "metadata": {},
   "outputs": [],
   "source": [
    "(define c (let ((a 3)\n",
    "                (b (+ 2 2)))\n",
    "                (sqrt (+ (* a a) (* b b)))))\n",
    "\n",
    "\"Note, a and b are only temporarily bound to compute c, and after that, a and b are not longer bound to anything.\""
   ]
  },
  {
   "cell_type": "markdown",
   "metadata": {},
   "source": []
  }
 ],
 "metadata": {
  "kernelspec": {
   "display_name": "Python 3.10.8 64-bit (microsoft store)",
   "language": "python",
   "name": "python3"
  },
  "language_info": {
   "codemirror_mode": {
    "name": "ipython",
    "version": 3
   },
   "file_extension": ".py",
   "mimetype": "text/x-python",
   "name": "python",
   "nbconvert_exporter": "python",
   "pygments_lexer": "ipython3",
   "version": "3.10.8"
  },
  "orig_nbformat": 4,
  "vscode": {
   "interpreter": {
    "hash": "a523bb4ae541fe0eccf7db198b06224712a6299c564a642d5cf021f38b68f3d1"
   }
  }
 },
 "nbformat": 4,
 "nbformat_minor": 2
}
